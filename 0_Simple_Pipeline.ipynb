{
  "nbformat": 4,
  "nbformat_minor": 0,
  "metadata": {
    "kernelspec": {
      "display_name": "Python 3",
      "language": "python",
      "name": "python3"
    },
    "language_info": {
      "codemirror_mode": {
        "name": "ipython",
        "version": 3
      },
      "file_extension": ".py",
      "mimetype": "text/x-python",
      "name": "python",
      "nbconvert_exporter": "python",
      "pygments_lexer": "ipython3",
      "version": "3.7.6"
    },
    "colab": {
      "name": "0_Simple Pipeline.ipynb",
      "provenance": [],
      "collapsed_sections": [
        "CY-8pPXKqsDN"
      ],
      "toc_visible": true
    }
  },
  "cells": [
    {
      "cell_type": "markdown",
      "metadata": {
        "id": "sLFHp7wCqsCq",
        "colab_type": "text"
      },
      "source": [
        "\n",
        "## Machine Learning with Sklearn Pipeline         \n",
        "\n",
        "\n"
      ]
    },
    {
      "cell_type": "markdown",
      "metadata": {
        "id": "FvbmMbppqsCr",
        "colab_type": "text"
      },
      "source": [
        "\n",
        "## Sections \n",
        "\n",
        " - <a href='#section 1'>1. Data and information (**BigMart_train.csv**)</a><br>\n",
        " - <a href=\"#section 2\">2. Fill null values => section disabled</a><br>     \n",
        " - <a href=\"#section 3\">3. Define independent & dependent variables + train test split</a><br>   \n",
        " - <a href=\"#section 4\">4. Preprocessing pipeline for numerical features</a><br>\n",
        " - <a href=\"#section 5\">5. Preprocessing pipeline for categorical features</a><br>       \n",
        " - <a href=\"#section 6\">6. Combine preprocess pipelines</a><br>   \n",
        " - <a href=\"#section 7\">7. Pipelines for base models</a><br>    \n",
        " - <a href=\"#section 8\">8. Cross validation via grid search</a><br>   \n",
        " - <a href=\"#section 9\">9. Display grid search results</a><br>\n",
        " - <a href=\"#section 10\">10. Cross validation via random search</a><br>\n",
        " - <a href=\"#section 11\">11. Display random search results</a><br>       \n",
        " - <a href=\"#section 12\">12. pickle files</a><br>   \n",
        "\n",
        "\n"
      ]
    },
    {
      "cell_type": "code",
      "metadata": {
        "id": "7fZqtjGlqsCs",
        "colab_type": "code",
        "colab": {}
      },
      "source": [
        "\n",
        "import numpy as np \n",
        "import pandas as pd \n",
        "import seaborn as sns \n",
        "import matplotlib.pyplot as plt \n",
        "\n",
        "from scipy.stats import uniform, randint \n",
        "from sklearn.pipeline import Pipeline \n",
        "from sklearn.preprocessing import StandardScaler  \n",
        "from sklearn.preprocessing import OneHotEncoder  \n",
        "from sklearn.compose import ColumnTransformer  \n",
        "from sklearn.impute import SimpleImputer  \n",
        "from sklearn.model_selection import train_test_split  \n",
        "from sklearn.model_selection import KFold   \n",
        "from sklearn.model_selection import GridSearchCV   \n",
        "from sklearn.model_selection import RandomizedSearchCV  \n",
        "from sklearn.model_selection import cross_val_score  \n",
        "\n",
        "from sklearn.linear_model import LinearRegression, Ridge, Lasso, ElasticNet  \n",
        "from sklearn.tree import DecisionTreeRegressor \n",
        "from sklearn.neighbors import KNeighborsRegressor \n",
        "from sklearn.svm import SVR \n",
        "from sklearn.ensemble import RandomForestRegressor \n",
        "from sklearn.ensemble import GradientBoostingRegressor \n",
        "from xgboost import XGBRegressor \n",
        "from sklearn.metrics import mean_squared_error, r2_score  # scoring = 'neg_root_mean_squared_error', 'r2' \n",
        "import time   \n",
        "import warnings   \n",
        "import pickle   \n",
        "\n",
        "%matplotlib inline \n",
        "pd.set_option('display.max_column', 50)   \n",
        "pd.set_option('display.max_rows', 9000)   \n",
        "warnings.filterwarnings('ignore')   \n"
      ],
      "execution_count": null,
      "outputs": []
    },
    {
      "cell_type": "markdown",
      "metadata": {
        "id": "m7NypUraqsCu",
        "colab_type": "text"
      },
      "source": [
        "<p><a name=\"section 1\"></a></p> \n",
        "\n",
        "### Section 1: Data and Information      "
      ]
    },
    {
      "cell_type": "code",
      "metadata": {
        "id": "98JUnqC0qsCv",
        "colab_type": "code",
        "colab": {},
        "outputId": "c2119d87-f1ff-458f-d298-ea0f6c764b23"
      },
      "source": [
        "\n",
        "df = pd.read_csv('BigMart_train.csv')  \n",
        "#df = pd.read_csv('BigMart_test.csv')\n",
        "df.sample(5)  \n"
      ],
      "execution_count": null,
      "outputs": [
        {
          "output_type": "execute_result",
          "data": {
            "text/html": [
              "<div>\n",
              "<style scoped>\n",
              "    .dataframe tbody tr th:only-of-type {\n",
              "        vertical-align: middle;\n",
              "    }\n",
              "\n",
              "    .dataframe tbody tr th {\n",
              "        vertical-align: top;\n",
              "    }\n",
              "\n",
              "    .dataframe thead th {\n",
              "        text-align: right;\n",
              "    }\n",
              "</style>\n",
              "<table border=\"1\" class=\"dataframe\">\n",
              "  <thead>\n",
              "    <tr style=\"text-align: right;\">\n",
              "      <th></th>\n",
              "      <th>Item_Identifier</th>\n",
              "      <th>Item_Weight</th>\n",
              "      <th>Item_Fat_Content</th>\n",
              "      <th>Item_Visibility</th>\n",
              "      <th>Item_Type</th>\n",
              "      <th>Item_MRP</th>\n",
              "      <th>Outlet_Identifier</th>\n",
              "      <th>Outlet_Establishment_Year</th>\n",
              "      <th>Outlet_Size</th>\n",
              "      <th>Outlet_Location_Type</th>\n",
              "      <th>Outlet_Type</th>\n",
              "      <th>Item_Outlet_Sales</th>\n",
              "    </tr>\n",
              "  </thead>\n",
              "  <tbody>\n",
              "    <tr>\n",
              "      <th>7422</th>\n",
              "      <td>FDA50</td>\n",
              "      <td>16.25</td>\n",
              "      <td>Low Fat</td>\n",
              "      <td>0.087103</td>\n",
              "      <td>Dairy</td>\n",
              "      <td>96.0410</td>\n",
              "      <td>OUT013</td>\n",
              "      <td>1987</td>\n",
              "      <td>High</td>\n",
              "      <td>Tier 3</td>\n",
              "      <td>Supermarket Type1</td>\n",
              "      <td>868.8690</td>\n",
              "    </tr>\n",
              "    <tr>\n",
              "      <th>6039</th>\n",
              "      <td>FDE35</td>\n",
              "      <td>NaN</td>\n",
              "      <td>Regular</td>\n",
              "      <td>0.000000</td>\n",
              "      <td>Starchy Foods</td>\n",
              "      <td>59.8904</td>\n",
              "      <td>OUT027</td>\n",
              "      <td>1985</td>\n",
              "      <td>Medium</td>\n",
              "      <td>Tier 3</td>\n",
              "      <td>Supermarket Type3</td>\n",
              "      <td>1757.7120</td>\n",
              "    </tr>\n",
              "    <tr>\n",
              "      <th>4877</th>\n",
              "      <td>NCS29</td>\n",
              "      <td>9.00</td>\n",
              "      <td>Low Fat</td>\n",
              "      <td>0.069654</td>\n",
              "      <td>Health and Hygiene</td>\n",
              "      <td>266.2884</td>\n",
              "      <td>OUT049</td>\n",
              "      <td>1999</td>\n",
              "      <td>Medium</td>\n",
              "      <td>Tier 1</td>\n",
              "      <td>Supermarket Type1</td>\n",
              "      <td>2914.8724</td>\n",
              "    </tr>\n",
              "    <tr>\n",
              "      <th>5559</th>\n",
              "      <td>FDG53</td>\n",
              "      <td>10.00</td>\n",
              "      <td>Low Fat</td>\n",
              "      <td>0.045848</td>\n",
              "      <td>Frozen Foods</td>\n",
              "      <td>138.5180</td>\n",
              "      <td>OUT035</td>\n",
              "      <td>2004</td>\n",
              "      <td>Small</td>\n",
              "      <td>Tier 2</td>\n",
              "      <td>Supermarket Type1</td>\n",
              "      <td>2237.0880</td>\n",
              "    </tr>\n",
              "    <tr>\n",
              "      <th>7648</th>\n",
              "      <td>FDY50</td>\n",
              "      <td>5.80</td>\n",
              "      <td>Low Fat</td>\n",
              "      <td>0.131221</td>\n",
              "      <td>Dairy</td>\n",
              "      <td>87.8172</td>\n",
              "      <td>OUT045</td>\n",
              "      <td>2002</td>\n",
              "      <td>NaN</td>\n",
              "      <td>Tier 2</td>\n",
              "      <td>Supermarket Type1</td>\n",
              "      <td>1070.6064</td>\n",
              "    </tr>\n",
              "  </tbody>\n",
              "</table>\n",
              "</div>"
            ],
            "text/plain": [
              "     Item_Identifier  Item_Weight Item_Fat_Content  Item_Visibility  \\\n",
              "7422           FDA50        16.25          Low Fat         0.087103   \n",
              "6039           FDE35          NaN          Regular         0.000000   \n",
              "4877           NCS29         9.00          Low Fat         0.069654   \n",
              "5559           FDG53        10.00          Low Fat         0.045848   \n",
              "7648           FDY50         5.80          Low Fat         0.131221   \n",
              "\n",
              "               Item_Type  Item_MRP Outlet_Identifier  \\\n",
              "7422               Dairy   96.0410            OUT013   \n",
              "6039       Starchy Foods   59.8904            OUT027   \n",
              "4877  Health and Hygiene  266.2884            OUT049   \n",
              "5559        Frozen Foods  138.5180            OUT035   \n",
              "7648               Dairy   87.8172            OUT045   \n",
              "\n",
              "      Outlet_Establishment_Year Outlet_Size Outlet_Location_Type  \\\n",
              "7422                       1987        High               Tier 3   \n",
              "6039                       1985      Medium               Tier 3   \n",
              "4877                       1999      Medium               Tier 1   \n",
              "5559                       2004       Small               Tier 2   \n",
              "7648                       2002         NaN               Tier 2   \n",
              "\n",
              "            Outlet_Type  Item_Outlet_Sales  \n",
              "7422  Supermarket Type1           868.8690  \n",
              "6039  Supermarket Type3          1757.7120  \n",
              "4877  Supermarket Type1          2914.8724  \n",
              "5559  Supermarket Type1          2237.0880  \n",
              "7648  Supermarket Type1          1070.6064  "
            ]
          },
          "metadata": {
            "tags": []
          },
          "execution_count": 2
        }
      ]
    },
    {
      "cell_type": "code",
      "metadata": {
        "id": "hQWWEUPZqsCz",
        "colab_type": "code",
        "colab": {}
      },
      "source": [
        "''' drop the \"Item_Identifier\" feature column => It is an unique identifer, does not play a part in ML '''\n",
        "\n",
        "df = df.drop(['Item_Identifier'], axis = 1)   \n"
      ],
      "execution_count": null,
      "outputs": []
    },
    {
      "cell_type": "code",
      "metadata": {
        "id": "FheC7cK-qsC1",
        "colab_type": "code",
        "colab": {},
        "outputId": "2789bd8a-cabe-48e1-89d1-1957d7743612"
      },
      "source": [
        "\n",
        "df.shape \n"
      ],
      "execution_count": null,
      "outputs": [
        {
          "output_type": "execute_result",
          "data": {
            "text/plain": [
              "(8523, 11)"
            ]
          },
          "metadata": {
            "tags": []
          },
          "execution_count": 4
        }
      ]
    },
    {
      "cell_type": "code",
      "metadata": {
        "id": "6p1kEMO7qsC3",
        "colab_type": "code",
        "colab": {},
        "outputId": "df1faba9-ef34-4337-9c8b-1480108ea4c3"
      },
      "source": [
        "\n",
        "df.info() \n"
      ],
      "execution_count": null,
      "outputs": [
        {
          "output_type": "stream",
          "text": [
            "<class 'pandas.core.frame.DataFrame'>\n",
            "RangeIndex: 8523 entries, 0 to 8522\n",
            "Data columns (total 11 columns):\n",
            " #   Column                     Non-Null Count  Dtype  \n",
            "---  ------                     --------------  -----  \n",
            " 0   Item_Weight                7060 non-null   float64\n",
            " 1   Item_Fat_Content           8523 non-null   object \n",
            " 2   Item_Visibility            8523 non-null   float64\n",
            " 3   Item_Type                  8523 non-null   object \n",
            " 4   Item_MRP                   8523 non-null   float64\n",
            " 5   Outlet_Identifier          8523 non-null   object \n",
            " 6   Outlet_Establishment_Year  8523 non-null   int64  \n",
            " 7   Outlet_Size                6113 non-null   object \n",
            " 8   Outlet_Location_Type       8523 non-null   object \n",
            " 9   Outlet_Type                8523 non-null   object \n",
            " 10  Item_Outlet_Sales          8523 non-null   float64\n",
            "dtypes: float64(4), int64(1), object(6)\n",
            "memory usage: 732.6+ KB\n"
          ],
          "name": "stdout"
        }
      ]
    },
    {
      "cell_type": "code",
      "metadata": {
        "id": "i468ZRlQqsC5",
        "colab_type": "code",
        "colab": {},
        "outputId": "02210065-8b32-41d6-ce87-1e83e15ea16d"
      },
      "source": [
        "\n",
        "df.isnull().sum() \n"
      ],
      "execution_count": null,
      "outputs": [
        {
          "output_type": "execute_result",
          "data": {
            "text/plain": [
              "Item_Weight                  1463\n",
              "Item_Fat_Content                0\n",
              "Item_Visibility                 0\n",
              "Item_Type                       0\n",
              "Item_MRP                        0\n",
              "Outlet_Identifier               0\n",
              "Outlet_Establishment_Year       0\n",
              "Outlet_Size                  2410\n",
              "Outlet_Location_Type            0\n",
              "Outlet_Type                     0\n",
              "Item_Outlet_Sales               0\n",
              "dtype: int64"
            ]
          },
          "metadata": {
            "tags": []
          },
          "execution_count": 6
        }
      ]
    },
    {
      "cell_type": "code",
      "metadata": {
        "id": "gGCz3WLnqsC7",
        "colab_type": "code",
        "colab": {},
        "outputId": "489ba0ab-b219-4271-e312-e589d668ef23"
      },
      "source": [
        "''' null values => relative figures '''\n",
        "\n",
        "(df.isnull().sum() / len(df)) * 100    \n"
      ],
      "execution_count": null,
      "outputs": [
        {
          "output_type": "execute_result",
          "data": {
            "text/plain": [
              "Item_Weight                  17.165317\n",
              "Item_Fat_Content              0.000000\n",
              "Item_Visibility               0.000000\n",
              "Item_Type                     0.000000\n",
              "Item_MRP                      0.000000\n",
              "Outlet_Identifier             0.000000\n",
              "Outlet_Establishment_Year     0.000000\n",
              "Outlet_Size                  28.276428\n",
              "Outlet_Location_Type          0.000000\n",
              "Outlet_Type                   0.000000\n",
              "Item_Outlet_Sales             0.000000\n",
              "dtype: float64"
            ]
          },
          "metadata": {
            "tags": []
          },
          "execution_count": 7
        }
      ]
    },
    {
      "cell_type": "code",
      "metadata": {
        "scrolled": false,
        "id": "lc22mkIyqsC9",
        "colab_type": "code",
        "colab": {},
        "outputId": "0fd2fdf2-3f18-4efd-f655-54880e0308da"
      },
      "source": [
        "\n",
        "for col in df.columns:  \n",
        "    print('-' * 20, col, '-' * 20)  \n",
        "    print(df[col].value_counts(dropna = False, ascending = False).head(5), '\\n')     \n",
        "\n"
      ],
      "execution_count": null,
      "outputs": [
        {
          "output_type": "stream",
          "text": [
            "-------------------- Item_Weight --------------------\n",
            "NaN      1463\n",
            "12.15      86\n",
            "17.60      82\n",
            "13.65      77\n",
            "11.80      76\n",
            "Name: Item_Weight, dtype: int64 \n",
            "\n",
            "-------------------- Item_Fat_Content --------------------\n",
            "Low Fat    5089\n",
            "Regular    2889\n",
            "LF          316\n",
            "reg         117\n",
            "low fat     112\n",
            "Name: Item_Fat_Content, dtype: int64 \n",
            "\n",
            "-------------------- Item_Visibility --------------------\n",
            "0.000000    526\n",
            "0.076975      3\n",
            "0.041283      2\n",
            "0.085622      2\n",
            "0.187841      2\n",
            "Name: Item_Visibility, dtype: int64 \n",
            "\n",
            "-------------------- Item_Type --------------------\n",
            "Fruits and Vegetables    1232\n",
            "Snack Foods              1200\n",
            "Household                 910\n",
            "Frozen Foods              856\n",
            "Dairy                     682\n",
            "Name: Item_Type, dtype: int64 \n",
            "\n",
            "-------------------- Item_MRP --------------------\n",
            "172.0422    7\n",
            "188.1872    6\n",
            "170.5422    6\n",
            "109.5228    6\n",
            "196.5084    6\n",
            "Name: Item_MRP, dtype: int64 \n",
            "\n",
            "-------------------- Outlet_Identifier --------------------\n",
            "OUT027    935\n",
            "OUT013    932\n",
            "OUT049    930\n",
            "OUT035    930\n",
            "OUT046    930\n",
            "Name: Outlet_Identifier, dtype: int64 \n",
            "\n",
            "-------------------- Outlet_Establishment_Year --------------------\n",
            "1985    1463\n",
            "1987     932\n",
            "1999     930\n",
            "1997     930\n",
            "2004     930\n",
            "Name: Outlet_Establishment_Year, dtype: int64 \n",
            "\n",
            "-------------------- Outlet_Size --------------------\n",
            "Medium    2793\n",
            "NaN       2410\n",
            "Small     2388\n",
            "High       932\n",
            "Name: Outlet_Size, dtype: int64 \n",
            "\n",
            "-------------------- Outlet_Location_Type --------------------\n",
            "Tier 3    3350\n",
            "Tier 2    2785\n",
            "Tier 1    2388\n",
            "Name: Outlet_Location_Type, dtype: int64 \n",
            "\n",
            "-------------------- Outlet_Type --------------------\n",
            "Supermarket Type1    5577\n",
            "Grocery Store        1083\n",
            "Supermarket Type3     935\n",
            "Supermarket Type2     928\n",
            "Name: Outlet_Type, dtype: int64 \n",
            "\n",
            "-------------------- Item_Outlet_Sales --------------------\n",
            "958.7520     17\n",
            "1342.2528    16\n",
            "1845.5976    15\n",
            "703.0848     15\n",
            "1278.3360    14\n",
            "Name: Item_Outlet_Sales, dtype: int64 \n",
            "\n"
          ],
          "name": "stdout"
        }
      ]
    },
    {
      "cell_type": "code",
      "metadata": {
        "id": "GIEvis0eqsC_",
        "colab_type": "code",
        "colab": {}
      },
      "source": [
        "''' can be seen that there are only 2 values in the \"Item_Fat_Content\" feature category '''\n",
        "\n",
        "df['Item_Fat_Content'] = df['Item_Fat_Content'].replace({'LF': 'Low Fat', \n",
        "                                                         'low fat': 'Low Fat',   \n",
        "                                                         'reg': 'Regular'})  \n",
        "                                                                     \n"
      ],
      "execution_count": null,
      "outputs": []
    },
    {
      "cell_type": "code",
      "metadata": {
        "id": "s8LvvmFgqsDC",
        "colab_type": "code",
        "colab": {},
        "outputId": "41541a54-086d-4eb4-a3a2-e4d1b61c1c4d"
      },
      "source": [
        "''' there may be a lot of values in the \"Item_Type\" categorical feature => sparse matrix in one hot encoding '''\n",
        "\n",
        "df['Item_Type'].unique() "
      ],
      "execution_count": null,
      "outputs": [
        {
          "output_type": "execute_result",
          "data": {
            "text/plain": [
              "array(['Dairy', 'Soft Drinks', 'Meat', 'Fruits and Vegetables',\n",
              "       'Household', 'Baking Goods', 'Snack Foods', 'Frozen Foods',\n",
              "       'Breakfast', 'Health and Hygiene', 'Hard Drinks', 'Canned',\n",
              "       'Breads', 'Starchy Foods', 'Others', 'Seafood'], dtype=object)"
            ]
          },
          "metadata": {
            "tags": []
          },
          "execution_count": 10
        }
      ]
    },
    {
      "cell_type": "code",
      "metadata": {
        "id": "JwQ6zVRYqsDE",
        "colab_type": "code",
        "colab": {},
        "outputId": "c35a86aa-7242-4cca-f403-3420a84a2662"
      },
      "source": [
        "''' correlation table '''  \n",
        "\n",
        "corr = round(df.corr(), 3)   \n",
        "corr "
      ],
      "execution_count": null,
      "outputs": [
        {
          "output_type": "execute_result",
          "data": {
            "text/html": [
              "<div>\n",
              "<style scoped>\n",
              "    .dataframe tbody tr th:only-of-type {\n",
              "        vertical-align: middle;\n",
              "    }\n",
              "\n",
              "    .dataframe tbody tr th {\n",
              "        vertical-align: top;\n",
              "    }\n",
              "\n",
              "    .dataframe thead th {\n",
              "        text-align: right;\n",
              "    }\n",
              "</style>\n",
              "<table border=\"1\" class=\"dataframe\">\n",
              "  <thead>\n",
              "    <tr style=\"text-align: right;\">\n",
              "      <th></th>\n",
              "      <th>Item_Weight</th>\n",
              "      <th>Item_Visibility</th>\n",
              "      <th>Item_MRP</th>\n",
              "      <th>Outlet_Establishment_Year</th>\n",
              "      <th>Item_Outlet_Sales</th>\n",
              "    </tr>\n",
              "  </thead>\n",
              "  <tbody>\n",
              "    <tr>\n",
              "      <th>Item_Weight</th>\n",
              "      <td>1.000</td>\n",
              "      <td>-0.014</td>\n",
              "      <td>0.027</td>\n",
              "      <td>-0.012</td>\n",
              "      <td>0.014</td>\n",
              "    </tr>\n",
              "    <tr>\n",
              "      <th>Item_Visibility</th>\n",
              "      <td>-0.014</td>\n",
              "      <td>1.000</td>\n",
              "      <td>-0.001</td>\n",
              "      <td>-0.075</td>\n",
              "      <td>-0.129</td>\n",
              "    </tr>\n",
              "    <tr>\n",
              "      <th>Item_MRP</th>\n",
              "      <td>0.027</td>\n",
              "      <td>-0.001</td>\n",
              "      <td>1.000</td>\n",
              "      <td>0.005</td>\n",
              "      <td>0.568</td>\n",
              "    </tr>\n",
              "    <tr>\n",
              "      <th>Outlet_Establishment_Year</th>\n",
              "      <td>-0.012</td>\n",
              "      <td>-0.075</td>\n",
              "      <td>0.005</td>\n",
              "      <td>1.000</td>\n",
              "      <td>-0.049</td>\n",
              "    </tr>\n",
              "    <tr>\n",
              "      <th>Item_Outlet_Sales</th>\n",
              "      <td>0.014</td>\n",
              "      <td>-0.129</td>\n",
              "      <td>0.568</td>\n",
              "      <td>-0.049</td>\n",
              "      <td>1.000</td>\n",
              "    </tr>\n",
              "  </tbody>\n",
              "</table>\n",
              "</div>"
            ],
            "text/plain": [
              "                           Item_Weight  Item_Visibility  Item_MRP  \\\n",
              "Item_Weight                      1.000           -0.014     0.027   \n",
              "Item_Visibility                 -0.014            1.000    -0.001   \n",
              "Item_MRP                         0.027           -0.001     1.000   \n",
              "Outlet_Establishment_Year       -0.012           -0.075     0.005   \n",
              "Item_Outlet_Sales                0.014           -0.129     0.568   \n",
              "\n",
              "                           Outlet_Establishment_Year  Item_Outlet_Sales  \n",
              "Item_Weight                                   -0.012              0.014  \n",
              "Item_Visibility                               -0.075             -0.129  \n",
              "Item_MRP                                       0.005              0.568  \n",
              "Outlet_Establishment_Year                      1.000             -0.049  \n",
              "Item_Outlet_Sales                             -0.049              1.000  "
            ]
          },
          "metadata": {
            "tags": []
          },
          "execution_count": 11
        }
      ]
    },
    {
      "cell_type": "code",
      "metadata": {
        "id": "-MeAUOOlqsDH",
        "colab_type": "code",
        "colab": {},
        "outputId": "71542f47-4482-44fc-ae90-3f9d84795dbb"
      },
      "source": [
        "''' correlation to the target feature (Item_Outlet_Sales)  '''     \n",
        "\n",
        "corr['Item_Outlet_Sales'].sort_values(ascending = False)       \n"
      ],
      "execution_count": null,
      "outputs": [
        {
          "output_type": "execute_result",
          "data": {
            "text/plain": [
              "Item_Outlet_Sales            1.000\n",
              "Item_MRP                     0.568\n",
              "Item_Weight                  0.014\n",
              "Outlet_Establishment_Year   -0.049\n",
              "Item_Visibility             -0.129\n",
              "Name: Item_Outlet_Sales, dtype: float64"
            ]
          },
          "metadata": {
            "tags": []
          },
          "execution_count": 12
        }
      ]
    },
    {
      "cell_type": "code",
      "metadata": {
        "id": "lci-phhrqsDJ",
        "colab_type": "code",
        "colab": {},
        "outputId": "cceb90a8-fb8d-4952-cf79-5c57d5961ec9"
      },
      "source": [
        "\n",
        "plt.hist(x = df['Item_Outlet_Sales'])  \n",
        "plt.show() \n",
        "\n"
      ],
      "execution_count": null,
      "outputs": [
        {
          "output_type": "display_data",
          "data": {
            "image/png": "[encoded data removed]",
            "text/plain": [
              "<Figure size 432x288 with 1 Axes>"
            ]
          },
          "metadata": {
            "tags": [],
            "needs_background": "light"
          }
        }
      ]
    },
    {
      "cell_type": "code",
      "metadata": {
        "id": "sCyl7QPOqsDL",
        "colab_type": "code",
        "colab": {}
      },
      "source": [
        ""
      ],
      "execution_count": null,
      "outputs": []
    },
    {
      "cell_type": "markdown",
      "metadata": {
        "id": "CY-8pPXKqsDN",
        "colab_type": "text"
      },
      "source": [
        "<p><a name=\"section 2\"></a></p> \n",
        "\n",
        "### Section 2: Fill null values  => section disabled in favor of the pipeline operations below    \n"
      ]
    },
    {
      "cell_type": "code",
      "metadata": {
        "id": "c-A1AzoYqsDN",
        "colab_type": "code",
        "colab": {},
        "outputId": "f8e75775-4ef2-4711-e289-182236f05eb2"
      },
      "source": [
        "''' fill null values '''\n",
        "\n",
        "## impute numerical \n",
        "#df['Item_Weight'] = df_train['Item_Weight'].fillna(df_train['Item_Weight'].mean())     \n",
        "\n",
        "## impute categorical \n",
        "#df['Outlet_Size'] = df_train['Outlet_Size'].fillna(df_train['Outlet_Size'].mode()[0])  \n",
        "\n"
      ],
      "execution_count": null,
      "outputs": [
        {
          "output_type": "execute_result",
          "data": {
            "text/plain": [
              "' fill null values '"
            ]
          },
          "metadata": {
            "tags": []
          },
          "execution_count": 14
        }
      ]
    },
    {
      "cell_type": "code",
      "metadata": {
        "id": "ousKmLPTqsDP",
        "colab_type": "code",
        "colab": {},
        "outputId": "5bbc8334-d05b-46a9-e2ff-dcb5f7a1b1de"
      },
      "source": [
        "''' check for null values '''\n",
        "\n",
        "#df.isnull().sum()  "
      ],
      "execution_count": null,
      "outputs": [
        {
          "output_type": "execute_result",
          "data": {
            "text/plain": [
              "' check for null values '"
            ]
          },
          "metadata": {
            "tags": []
          },
          "execution_count": 15
        }
      ]
    },
    {
      "cell_type": "code",
      "metadata": {
        "id": "QX5mCWVMqsDR",
        "colab_type": "code",
        "colab": {},
        "outputId": "dc910817-e50e-4b61-913a-e79080f53255"
      },
      "source": [
        "''' for the sake of redundency => already in the df_train.info() ''' \n",
        "\n",
        "df.dtypes\n"
      ],
      "execution_count": null,
      "outputs": [
        {
          "output_type": "execute_result",
          "data": {
            "text/plain": [
              "Item_Weight                  float64\n",
              "Item_Fat_Content              object\n",
              "Item_Visibility              float64\n",
              "Item_Type                     object\n",
              "Item_MRP                     float64\n",
              "Outlet_Identifier             object\n",
              "Outlet_Establishment_Year      int64\n",
              "Outlet_Size                   object\n",
              "Outlet_Location_Type          object\n",
              "Outlet_Type                   object\n",
              "Item_Outlet_Sales            float64\n",
              "dtype: object"
            ]
          },
          "metadata": {
            "tags": []
          },
          "execution_count": 16
        }
      ]
    },
    {
      "cell_type": "markdown",
      "metadata": {
        "id": "X2PYr6T8qsDT",
        "colab_type": "text"
      },
      "source": [
        "\n",
        "There are a number of ways in which we can convert these categories into numerical values. You can read about the same in this article – Simple Methods to deal with Categorical Variables. We are going to use the categorical_encoders library in order to convert the variables into binary columns.\n",
        "\n",
        "Note that in this example I am not going to encode Item_Identifier since it will increase the number of feature to 1500. This feature can be used in other ways (read here), but to keep the model simple, I will not use this feature here.\n"
      ]
    },
    {
      "cell_type": "code",
      "metadata": {
        "id": "ZUTrVAZfqsDT",
        "colab_type": "code",
        "colab": {}
      },
      "source": [
        ""
      ],
      "execution_count": null,
      "outputs": []
    },
    {
      "cell_type": "markdown",
      "metadata": {
        "id": "vb-kCjlAqsDV",
        "colab_type": "text"
      },
      "source": [
        "<p><a name=\"section 3\"></a></p> \n",
        "\n",
        "### Section 3: Train test split           \n",
        "\n",
        "- Note that the 'Item_Identifier' feature column was dropped and the 'Item_Fat_Content' feature column was modified  \n",
        "- Currently df.shape = (8523, 10)      \n"
      ]
    },
    {
      "cell_type": "code",
      "metadata": {
        "id": "HHLvNNsYqsDV",
        "colab_type": "code",
        "colab": {},
        "outputId": "179dae0c-4179-4360-e1dc-349dea3e8ddd"
      },
      "source": [
        "''' the current state of the data frame '''\n",
        "\n",
        "#df.sample(5)   \n"
      ],
      "execution_count": null,
      "outputs": [
        {
          "output_type": "execute_result",
          "data": {
            "text/plain": [
              "' the current state of the data frame '"
            ]
          },
          "metadata": {
            "tags": []
          },
          "execution_count": 17
        }
      ]
    },
    {
      "cell_type": "code",
      "metadata": {
        "id": "8gvPKWYEqsDX",
        "colab_type": "code",
        "colab": {}
      },
      "source": [
        "''' define independent and dependent variables + train test split '''    \n",
        "\n",
        "x = df.iloc[:, 0:10]  \n",
        "y = df.iloc[:, 10]\n",
        "\n",
        "x_train, x_test, y_train, y_test = train_test_split(x, y, test_size = 0.2)     \n"
      ],
      "execution_count": null,
      "outputs": []
    },
    {
      "cell_type": "code",
      "metadata": {
        "id": "_5c2Ai3gqsDZ",
        "colab_type": "code",
        "colab": {}
      },
      "source": [
        ""
      ],
      "execution_count": null,
      "outputs": []
    },
    {
      "cell_type": "markdown",
      "metadata": {
        "id": "9zIAPtCmqsDc",
        "colab_type": "text"
      },
      "source": [
        "<p><a name=\"section 4\"></a></p> \n",
        "\n",
        "### Section 4: Preprocessing pipeline for numerical features    \n"
      ]
    },
    {
      "cell_type": "code",
      "metadata": {
        "id": "whU6TbWEqsDc",
        "colab_type": "code",
        "colab": {},
        "outputId": "69319b5d-64f4-4218-9cdf-f66714518e2e"
      },
      "source": [
        "''' preprocessing pipeline for numerical features '''    \n",
        "\n",
        "from sklearn.impute import SimpleImputer \n",
        "from sklearn.preprocessing import StandardScaler \n",
        "\n",
        "# leave out the 'Item_Outlet_Sales' column as it is the target \n",
        "numeric_features = ['Item_Weight', 'Item_Visibility', 'Item_MRP', 'Outlet_Establishment_Year']  \n",
        "\n",
        "\n",
        "numeric_transformer = Pipeline([('imputer', SimpleImputer(strategy = 'mean')),   \n",
        "                                ('scaler', StandardScaler())])    \n",
        "\n",
        "# see what it looks like \n",
        "numeric_transformer \n"
      ],
      "execution_count": null,
      "outputs": [
        {
          "output_type": "execute_result",
          "data": {
            "text/plain": [
              "Pipeline(memory=None,\n",
              "         steps=[('imputer',\n",
              "                 SimpleImputer(add_indicator=False, copy=True, fill_value=None,\n",
              "                               missing_values=nan, strategy='mean',\n",
              "                               verbose=0)),\n",
              "                ('scaler',\n",
              "                 StandardScaler(copy=True, with_mean=True, with_std=True))],\n",
              "         verbose=False)"
            ]
          },
          "metadata": {
            "tags": []
          },
          "execution_count": 19
        }
      ]
    },
    {
      "cell_type": "code",
      "metadata": {
        "id": "A5OZNfK-qsDd",
        "colab_type": "code",
        "colab": {}
      },
      "source": [
        ""
      ],
      "execution_count": null,
      "outputs": []
    },
    {
      "cell_type": "markdown",
      "metadata": {
        "id": "bJbsKkGeqsDf",
        "colab_type": "text"
      },
      "source": [
        "<p><a name=\"section 5\"></a></p> \n",
        "\n",
        "### Section 5: Preprocessing pipeline for categorical features      \n"
      ]
    },
    {
      "cell_type": "code",
      "metadata": {
        "id": "QrFsUvZ1qsDf",
        "colab_type": "code",
        "colab": {},
        "outputId": "4c3c0caf-25db-40a2-9237-7c9895ec03ff"
      },
      "source": [
        "''' preprocessing pipeline for categorical features '''    \n",
        "\n",
        "from sklearn.preprocessing import OneHotEncoder  \n",
        "\n",
        "categorical_features = ['Item_Fat_Content', 'Item_Type', 'Outlet_Identifier', 'Outlet_Size',    \n",
        "                        'Outlet_Location_Type', 'Outlet_Type'  ]   \n",
        "\n",
        "\n",
        "categorical_transformer = Pipeline([('imputer', SimpleImputer(strategy = 'most_frequent')),  \n",
        "                                    ('onehot', OneHotEncoder(sparse = False, handle_unknown = 'ignore') )  ])\n",
        "\n",
        "\n",
        "\n",
        "# see what it looks like \n",
        "categorical_transformer   \n",
        "\n"
      ],
      "execution_count": null,
      "outputs": [
        {
          "output_type": "execute_result",
          "data": {
            "text/plain": [
              "Pipeline(memory=None,\n",
              "         steps=[('imputer',\n",
              "                 SimpleImputer(add_indicator=False, copy=True, fill_value=None,\n",
              "                               missing_values=nan, strategy='most_frequent',\n",
              "                               verbose=0)),\n",
              "                ('onehot',\n",
              "                 OneHotEncoder(categories='auto', drop=None,\n",
              "                               dtype=<class 'numpy.float64'>,\n",
              "                               handle_unknown='ignore', sparse=False))],\n",
              "         verbose=False)"
            ]
          },
          "metadata": {
            "tags": []
          },
          "execution_count": 20
        }
      ]
    },
    {
      "cell_type": "code",
      "metadata": {
        "id": "g3SFfZ9BqsDh",
        "colab_type": "code",
        "colab": {}
      },
      "source": [
        ""
      ],
      "execution_count": null,
      "outputs": []
    },
    {
      "cell_type": "markdown",
      "metadata": {
        "id": "DTaqh4zGqsDj",
        "colab_type": "text"
      },
      "source": [
        "<p><a name=\"section 6\"></a></p> \n",
        "\n",
        "### Section 6: Combine the numerical and categorical preprocessing pipelines              \n",
        "\n"
      ]
    },
    {
      "cell_type": "code",
      "metadata": {
        "id": "ja9JVDQYqsDj",
        "colab_type": "code",
        "colab": {},
        "outputId": "8421e697-7a35-425a-e3cf-1f0b86e85735"
      },
      "source": [
        "''' combine the numerical and categorical preprocessors into one '''  \n",
        "\n",
        "from sklearn.compose import ColumnTransformer  \n",
        "\n",
        "preprocessor = ColumnTransformer(transformers = [('num', numeric_transformer, numeric_features), \n",
        "                                                 ('cat', categorical_transformer, categorical_features)])   \n",
        "    \n",
        "\n",
        "## what the combined processor looks like \n",
        "preprocessor \n",
        "\n"
      ],
      "execution_count": null,
      "outputs": [
        {
          "output_type": "execute_result",
          "data": {
            "text/plain": [
              "ColumnTransformer(n_jobs=None, remainder='drop', sparse_threshold=0.3,\n",
              "                  transformer_weights=None,\n",
              "                  transformers=[('num',\n",
              "                                 Pipeline(memory=None,\n",
              "                                          steps=[('imputer',\n",
              "                                                  SimpleImputer(add_indicator=False,\n",
              "                                                                copy=True,\n",
              "                                                                fill_value=None,\n",
              "                                                                missing_values=nan,\n",
              "                                                                strategy='mean',\n",
              "                                                                verbose=0)),\n",
              "                                                 ('scaler',\n",
              "                                                  StandardScaler(copy=True,\n",
              "                                                                 with_mean=True,\n",
              "                                                                 with_std=True))],\n",
              "                                          verbose=False),\n",
              "                                 ['Item_W...\n",
              "                                                  SimpleImputer(add_indicator=False,\n",
              "                                                                copy=True,\n",
              "                                                                fill_value=None,\n",
              "                                                                missing_values=nan,\n",
              "                                                                strategy='most_frequent',\n",
              "                                                                verbose=0)),\n",
              "                                                 ('onehot',\n",
              "                                                  OneHotEncoder(categories='auto',\n",
              "                                                                drop=None,\n",
              "                                                                dtype=<class 'numpy.float64'>,\n",
              "                                                                handle_unknown='ignore',\n",
              "                                                                sparse=False))],\n",
              "                                          verbose=False),\n",
              "                                 ['Item_Fat_Content', 'Item_Type',\n",
              "                                  'Outlet_Identifier', 'Outlet_Size',\n",
              "                                  'Outlet_Location_Type', 'Outlet_Type'])],\n",
              "                  verbose=False)"
            ]
          },
          "metadata": {
            "tags": []
          },
          "execution_count": 21
        }
      ]
    },
    {
      "cell_type": "code",
      "metadata": {
        "id": "393w12GCqsDl",
        "colab_type": "code",
        "colab": {}
      },
      "source": [
        ""
      ],
      "execution_count": null,
      "outputs": []
    },
    {
      "cell_type": "markdown",
      "metadata": {
        "id": "gbMcKiwuqsDm",
        "colab_type": "text"
      },
      "source": [
        "<p><a name=\"section 7\"></a></p> \n",
        "\n",
        "### Section 7: Pipelines for base models                \n"
      ]
    },
    {
      "cell_type": "code",
      "metadata": {
        "id": "ptbURwDAqsDm",
        "colab_type": "code",
        "colab": {}
      },
      "source": [
        "''' define model pipelines '''\n",
        "\n",
        "## model pipelines     \n",
        "pipelines = [('Linear', Pipeline([('preprocessor', preprocessor), ('linear', LinearRegression())])), \n",
        "             ('Ridge', Pipeline([('preprocessor', preprocessor), ('ridge', Ridge())])),   \n",
        "             ('Lasso', Pipeline([('preprocessor', preprocessor), ('lasso', Lasso())])),   \n",
        "             ('ElasticNet', Pipeline([('preprocessor', preprocessor), ('elastic', Lasso())])  ), \n",
        "             ('DecisionTree', Pipeline([('preprocessor', preprocessor), ('dtree', DecisionTreeRegressor())])  ), \n",
        "             ('KNN', Pipeline([('preprocessor', preprocessor), ('knn', KNeighborsRegressor())])  ),  \n",
        "             ('SVR', Pipeline([('preprocessor', preprocessor), ('svr', SVR())])    ), \n",
        "             ('RandomForest', Pipeline([('preprocessor', preprocessor), ('rf', RandomForestRegressor())])  ), \n",
        "             #('GradientBoosting', Pipeline([('preprocessor', preprocessor), ('gbr', GradientBoostingRegressor())]) ),  \n",
        "             ('XGBoostRegressor', Pipeline([('preprocessor', preprocessor), ('xgb', XGBRegressor()) ]))\n",
        "            ]  \n"
      ],
      "execution_count": null,
      "outputs": []
    },
    {
      "cell_type": "code",
      "metadata": {
        "id": "kTlNtlyIqsDo",
        "colab_type": "code",
        "colab": {},
        "outputId": "01f5bc0b-6cc4-430f-9242-c3a2b2a5c6f0"
      },
      "source": [
        "''' generate CV results => RMSE '''    \n",
        "\n",
        "results = []  \n",
        "names = []    \n",
        "\n",
        "\n",
        "# loop to calculate RMSE     \n",
        "print('Model and mean RMSE','\\n')  \n",
        "print(f'Reference: mean of the target: {np.mean(y_train):.5f}', '\\n')\n",
        "for name, model in pipelines:  \n",
        "    kfold = KFold(n_splits = 10, shuffle = True, random_state = 0)  \n",
        "    cv_results = cross_val_score(model, x_train, y_train, cv = kfold, scoring = 'neg_root_mean_squared_error')  #scoring = RMSE    \n",
        "    results.append(cv_results) \n",
        "    names.append(name)   \n",
        "    print(f'Model: {name}  ||  mean: {cv_results.mean():.5f}  ||  stdev: {cv_results.std():.5f}')       \n",
        "\n",
        "print()  \n",
        "\n"
      ],
      "execution_count": null,
      "outputs": [
        {
          "output_type": "stream",
          "text": [
            "Model and mean RMSE \n",
            "\n",
            "Reference: mean of the target: 2188.13520 \n",
            "\n",
            "Model: Linear  ||  mean: -1131.14588  ||  stdev: 50.07481\n",
            "Model: Ridge  ||  mean: -1131.19258  ||  stdev: 50.04973\n",
            "Model: Lasso  ||  mean: -1130.40368  ||  stdev: 50.08972\n",
            "Model: ElasticNet  ||  mean: -1130.40368  ||  stdev: 50.08972\n",
            "Model: DecisionTree  ||  mean: -1514.42347  ||  stdev: 61.82401\n",
            "Model: KNN  ||  mean: -1206.36855  ||  stdev: 56.61819\n",
            "Model: SVR  ||  mean: -1668.35420  ||  stdev: 85.55062\n",
            "Model: RandomForest  ||  mean: -1141.44500  ||  stdev: 64.07460\n",
            "[19:48:18] WARNING: src/objective/regression_obj.cu:152: reg:linear is now deprecated in favor of reg:squarederror.\n",
            "[19:48:19] WARNING: src/objective/regression_obj.cu:152: reg:linear is now deprecated in favor of reg:squarederror.\n",
            "[19:48:19] WARNING: src/objective/regression_obj.cu:152: reg:linear is now deprecated in favor of reg:squarederror.\n",
            "[19:48:20] WARNING: src/objective/regression_obj.cu:152: reg:linear is now deprecated in favor of reg:squarederror.\n",
            "[19:48:20] WARNING: src/objective/regression_obj.cu:152: reg:linear is now deprecated in favor of reg:squarederror.\n",
            "[19:48:21] WARNING: src/objective/regression_obj.cu:152: reg:linear is now deprecated in favor of reg:squarederror.\n",
            "[19:48:22] WARNING: src/objective/regression_obj.cu:152: reg:linear is now deprecated in favor of reg:squarederror.\n",
            "[19:48:22] WARNING: src/objective/regression_obj.cu:152: reg:linear is now deprecated in favor of reg:squarederror.\n",
            "[19:48:23] WARNING: src/objective/regression_obj.cu:152: reg:linear is now deprecated in favor of reg:squarederror.\n",
            "[19:48:23] WARNING: src/objective/regression_obj.cu:152: reg:linear is now deprecated in favor of reg:squarederror.\n",
            "Model: XGBoostRegressor  ||  mean: -1082.91126  ||  stdev: 60.44906\n",
            "\n"
          ],
          "name": "stdout"
        }
      ]
    },
    {
      "cell_type": "code",
      "metadata": {
        "scrolled": false,
        "id": "sIGmxXt1qsDr",
        "colab_type": "code",
        "colab": {},
        "outputId": "8496b1d0-a238-4969-cceb-1ec958a519d6"
      },
      "source": [
        "''' Plot RMSE results '''\n",
        "\n",
        "fig = plt.figure(figsize = (10,5))  \n",
        "fig.suptitle('Model RMSE comparison')   \n",
        "ax = fig.add_subplot(111)   \n",
        "plt.boxplot(results)  \n",
        "ax.set_xticklabels(names, rotation = 45)  \n",
        "#ax.grid() \n",
        "plt.show()    \n"
      ],
      "execution_count": null,
      "outputs": [
        {
          "output_type": "display_data",
          "data": {
            "image/png": "[encoded data removed]",
            "text/plain": [
              "<Figure size 720x360 with 1 Axes>"
            ]
          },
          "metadata": {
            "tags": [],
            "needs_background": "light"
          }
        }
      ]
    },
    {
      "cell_type": "code",
      "metadata": {
        "id": "11bCRy5wqsDs",
        "colab_type": "code",
        "colab": {},
        "outputId": "f587304c-77cd-4cc3-f4c5-d1ea32b40b07"
      },
      "source": [
        "''' generate CV results => r^2 '''  \n",
        "\n",
        "results = []  \n",
        "names = []     \n",
        "\n",
        "# loop to calculate r^2  \n",
        "print('Model and mean r^2','\\n')\n",
        "for name, model in pipelines:  \n",
        "    kfold = KFold(n_splits = 10, shuffle = True, random_state = 0)  \n",
        "    cv_results = cross_val_score(model, x_train, y_train, cv = kfold, scoring = 'r2')  #scoring = RMSE    \n",
        "    results.append(cv_results) \n",
        "    names.append(name) \n",
        "    print(f'Model: {name}  ||  mean: {cv_results.mean():.5f}  ||  stdev: {cv_results.std():.5f}')       \n",
        "\n",
        "print() \n"
      ],
      "execution_count": null,
      "outputs": [
        {
          "output_type": "stream",
          "text": [
            "Model and mean r^2 \n",
            "\n",
            "Model: Linear  ||  mean: 0.56006  ||  stdev: 0.02267\n",
            "Model: Ridge  ||  mean: 0.56003  ||  stdev: 0.02264\n",
            "Model: Lasso  ||  mean: 0.56064  ||  stdev: 0.02266\n",
            "Model: ElasticNet  ||  mean: 0.56064  ||  stdev: 0.02266\n",
            "Model: DecisionTree  ||  mean: 0.21439  ||  stdev: 0.05865\n",
            "Model: KNN  ||  mean: 0.49918  ||  stdev: 0.03461\n",
            "Model: SVR  ||  mean: 0.04476  ||  stdev: 0.01937\n",
            "Model: RandomForest  ||  mean: 0.55167  ||  stdev: 0.04030\n",
            "[19:49:38] WARNING: src/objective/regression_obj.cu:152: reg:linear is now deprecated in favor of reg:squarederror.\n",
            "[19:49:39] WARNING: src/objective/regression_obj.cu:152: reg:linear is now deprecated in favor of reg:squarederror.\n",
            "[19:49:39] WARNING: src/objective/regression_obj.cu:152: reg:linear is now deprecated in favor of reg:squarederror.\n",
            "[19:49:40] WARNING: src/objective/regression_obj.cu:152: reg:linear is now deprecated in favor of reg:squarederror.\n",
            "[19:49:41] WARNING: src/objective/regression_obj.cu:152: reg:linear is now deprecated in favor of reg:squarederror.\n",
            "[19:49:41] WARNING: src/objective/regression_obj.cu:152: reg:linear is now deprecated in favor of reg:squarederror.\n",
            "[19:49:42] WARNING: src/objective/regression_obj.cu:152: reg:linear is now deprecated in favor of reg:squarederror.\n",
            "[19:49:42] WARNING: src/objective/regression_obj.cu:152: reg:linear is now deprecated in favor of reg:squarederror.\n",
            "[19:49:43] WARNING: src/objective/regression_obj.cu:152: reg:linear is now deprecated in favor of reg:squarederror.\n",
            "[19:49:44] WARNING: src/objective/regression_obj.cu:152: reg:linear is now deprecated in favor of reg:squarederror.\n",
            "Model: XGBoostRegressor  ||  mean: 0.59647  ||  stdev: 0.03271\n",
            "\n"
          ],
          "name": "stdout"
        }
      ]
    },
    {
      "cell_type": "code",
      "metadata": {
        "id": "CsOt6M9ZqsDu",
        "colab_type": "code",
        "colab": {},
        "outputId": "c6ebcfa3-c46c-4e6e-d376-e0d254442d92"
      },
      "source": [
        "''' Plot r^2 results '''\n",
        "\n",
        "fig = plt.figure(figsize = (10,5))  \n",
        "fig.suptitle('Model r^2 comparison')   \n",
        "ax = fig.add_subplot(111)   \n",
        "plt.boxplot(results)  \n",
        "ax.set_xticklabels(names, rotation = 45)  \n",
        "#ax.grid() \n",
        "plt.show()     \n"
      ],
      "execution_count": null,
      "outputs": [
        {
          "output_type": "display_data",
          "data": {
            "image/png": "[encoded data removed]",
            "text/plain": [
              "<Figure size 720x360 with 1 Axes>"
            ]
          },
          "metadata": {
            "tags": [],
            "needs_background": "light"
          }
        }
      ]
    },
    {
      "cell_type": "code",
      "metadata": {
        "id": "vLAI5CeQqsDv",
        "colab_type": "code",
        "colab": {}
      },
      "source": [
        ""
      ],
      "execution_count": null,
      "outputs": []
    },
    {
      "cell_type": "markdown",
      "metadata": {
        "id": "yZOuAQj3qsDx",
        "colab_type": "text"
      },
      "source": [
        "<p><a name=\"section 8\"></a></p> \n",
        "\n",
        "### Section 8: Cross validation via grid search                 \n"
      ]
    },
    {
      "cell_type": "code",
      "metadata": {
        "id": "UvbzuYZ4qsDx",
        "colab_type": "code",
        "colab": {}
      },
      "source": [
        "''' define empty lists to contain results '''\n",
        "\n",
        "model = []  \n",
        "best_score = []  \n"
      ],
      "execution_count": null,
      "outputs": []
    },
    {
      "cell_type": "code",
      "metadata": {
        "id": "Pwu-nP4kqsDz",
        "colab_type": "code",
        "colab": {},
        "outputId": "f0e70f0c-acec-45dd-f37c-9d45d0fec9b5"
      },
      "source": [
        "''' Linear regression => includes extraneous steps for consistency with other models '''  \n",
        "\n",
        "start_time = time.time()  \n",
        "\n",
        "# linear regression pipeline \n",
        "linear_pipe = Pipeline([('preprocessor', preprocessor), ('linear', LinearRegression())])     \n",
        "\n",
        "# linear regression parameters for grid search \n",
        "linear_params = { }        \n",
        "\n",
        "# linear grid search  \n",
        "kfold = KFold(n_splits = 5, shuffle = True)  \n",
        "linear_grid = GridSearchCV(linear_pipe, param_grid = linear_params, cv = kfold)  \n",
        "linear_grid.fit(x_train, y_train)   \n",
        "\n",
        "# # append values to lists \n",
        "model.append('Linear')  \n",
        "best_score.append(linear_grid.best_score_)     \n",
        "\n",
        "# print results \n",
        "print(f'The best score: {linear_grid.best_score_}', '\\n')  \n",
        "print(f'The best parameters: {linear_grid.best_params_}', '\\n')\n",
        "run_time = round((time.time() - start_time)/60, 5)  \n",
        "print(f'Run time: {run_time} minutes')\n",
        "\n",
        "\n"
      ],
      "execution_count": null,
      "outputs": [
        {
          "output_type": "stream",
          "text": [
            "The best score: 0.5601709174139983 \n",
            "\n",
            "The best parameters: {} \n",
            "\n",
            "Run time: 0.00998 minutes\n"
          ],
          "name": "stdout"
        }
      ]
    },
    {
      "cell_type": "code",
      "metadata": {
        "id": "VsQY8bh4qsD1",
        "colab_type": "code",
        "colab": {},
        "outputId": "1a569d78-f099-4033-d36d-e8111456f89a"
      },
      "source": [
        "''' Ridge '''\n",
        "\n",
        "start_time = time.time() \n",
        "\n",
        "# ridge pipeline \n",
        "ridge_pipe = Pipeline([('preprocessor', preprocessor), ('ridge', Ridge())])     \n",
        "\n",
        "# ridge parameters for grid search \n",
        "ridge_params = {'ridge__alpha': [1e-4, 1e-2, 0.1, 1.0, 2.0, 10, 50, 100]  }    \n",
        "\n",
        "# ridge grid search \n",
        "kfold = KFold(n_splits = 5, shuffle = True)  \n",
        "ridge_grid = GridSearchCV(ridge_pipe, param_grid = ridge_params, cv = kfold)      \n",
        "ridge_grid.fit(x_train, y_train)   \n",
        "\n",
        "# append values to lists \n",
        "model.append('Ridge')  \n",
        "best_score.append(ridge_grid.best_score_) \n",
        "\n",
        "# print results \n",
        "print(f'The best score: {ridge_grid.best_score_}', '\\n')  \n",
        "print(f'The best parameters: {ridge_grid.best_params_}', '\\n')\n",
        "run_time = round((time.time() - start_time)/60, 5)  \n",
        "print(f'Run time: {run_time} minutes')       \n",
        "\n",
        "\n"
      ],
      "execution_count": null,
      "outputs": [
        {
          "output_type": "stream",
          "text": [
            "The best score: 0.5604485507442294 \n",
            "\n",
            "The best parameters: {'ridge__alpha': 50} \n",
            "\n",
            "Run time: 0.07452 minutes\n"
          ],
          "name": "stdout"
        }
      ]
    },
    {
      "cell_type": "code",
      "metadata": {
        "id": "CoKsH_6TqsD2",
        "colab_type": "code",
        "colab": {},
        "outputId": "a6a79edc-55eb-40ee-c148-01d16fe906d3"
      },
      "source": [
        "''' Lasso '''\n",
        "\n",
        "start_time = time.time()   \n",
        "\n",
        "# lasso pipeline \n",
        "lasso_pipe = Pipeline([('preprocessor', preprocessor), ('lasso', Lasso())])      \n",
        "              \n",
        "# lasso parameters for grid search   \n",
        "lasso_params = {'lasso__alpha': [1e-4, 1e-2, 0.1, 1.0, 2.0, 10, 50, 100]  }   \n",
        "\n",
        "# lasso grid search  \n",
        "kfold = KFold(n_splits = 5, shuffle = True)  \n",
        "lasso_grid = GridSearchCV(lasso_pipe, param_grid = lasso_params, cv = kfold)     \n",
        "lasso_grid.fit(x_train, y_train)   \n",
        "\n",
        "# append values to lists \n",
        "model.append('Lasso')  \n",
        "best_score.append(lasso_grid.best_score_)   \n",
        "\n",
        "# print results \n",
        "print(f'The best score: {lasso_grid.best_score_}', '\\n')  \n",
        "print(f'The best parameters: {lasso_grid.best_params_}', '\\n')\n",
        "run_time = round((time.time() - start_time)/60, 5)  \n",
        "print(f'Run time: {run_time} minutes')\n",
        "\n",
        "\n"
      ],
      "execution_count": null,
      "outputs": [
        {
          "output_type": "stream",
          "text": [
            "The best score: 0.5597477240400158 \n",
            "\n",
            "The best parameters: {'lasso__alpha': 2.0} \n",
            "\n",
            "Run time: 0.13758 minutes\n"
          ],
          "name": "stdout"
        }
      ]
    },
    {
      "cell_type": "code",
      "metadata": {
        "id": "CPyW45P7qsD4",
        "colab_type": "code",
        "colab": {},
        "outputId": "41e3e252-8149-41d5-d772-3ad02c16d289"
      },
      "source": [
        "''' Elastic net '''    \n",
        "\n",
        "start_time = time.time()  \n",
        "\n",
        "# elastic net pipeline \n",
        "elastic_pipe = Pipeline([('preprocessor', preprocessor), ('elastic', ElasticNet())])      \n",
        "              \n",
        "# elastic net parameters for grid search   \n",
        "elastic_params = {'elastic__alpha': [1e-4, 1e-2, 0.1, 1.0, 2.0, 10, 50, 100], \n",
        "                  'elastic__l1_ratio': [0.25, 0.5, 0.75, 0.99],\n",
        "                  'elastic__max_iter': [1000, 1500, 2000, 2500]  }     \n",
        "\n",
        "# elastic net grid search   \n",
        "kfold = KFold(n_splits = 5, shuffle = True)  \n",
        "elastic_grid = GridSearchCV(elastic_pipe, param_grid = elastic_params, cv = kfold)    \n",
        "elastic_grid.fit(x_train, y_train)   \n",
        "\n",
        "# append values to lists \n",
        "model.append('ElasticNet')  \n",
        "best_score.append(elastic_grid.best_score_) \n",
        "\n",
        "# print results \n",
        "print(f'The best score: {elastic_grid.best_score_}', '\\n')  \n",
        "print(f'The best parameters: {elastic_grid.best_params_}', '\\n')\n",
        "run_time = round((time.time() - start_time)/60, 5)  \n",
        "print(f'Run time: {run_time} minutes')\n",
        "\n",
        "\n"
      ],
      "execution_count": null,
      "outputs": [
        {
          "output_type": "stream",
          "text": [
            "The best score: 0.5608414169588818 \n",
            "\n",
            "The best parameters: {'elastic__alpha': 1.0, 'elastic__l1_ratio': 0.99, 'elastic__max_iter': 1000} \n",
            "\n",
            "Run time: 1.855 minutes\n"
          ],
          "name": "stdout"
        }
      ]
    },
    {
      "cell_type": "code",
      "metadata": {
        "id": "YpAcZ44mqsD6",
        "colab_type": "code",
        "colab": {},
        "outputId": "c7894a9e-f4af-4902-fc36-282096374884"
      },
      "source": [
        "''' Decision tree regressor '''   \n",
        "\n",
        "start_time = time.time()  \n",
        "\n",
        "# decision tree pipeline \n",
        "decision_pipe = Pipeline([('preprocessor', preprocessor), ('decision', DecisionTreeRegressor())])  \n",
        "\n",
        "# decision tree parameters for grid search \n",
        "decision_params = {#'decision__criterion': ['gini', 'entropy'],  \n",
        "                   'decision__criterion': ['mse'],\n",
        "                   'decision__min_samples_leaf': range(1, 10), \n",
        "                   'decision__min_samples_split': np.linspace(2, 30, 15, dtype = int) }  \n",
        "\n",
        "# decision tree grid search   \n",
        "kfold = KFold(n_splits = 5, shuffle = True) \n",
        "decision_grid = GridSearchCV(decision_pipe, param_grid = decision_params, cv = kfold)     \n",
        "decision_grid.fit(x_train, y_train)   \n",
        "\n",
        "# append values to lists \n",
        "model.append('DecisionTree')  \n",
        "best_score.append(decision_grid.best_score_)  \n",
        "\n",
        "# print results \n",
        "print(f'The best score: {decision_grid.best_score_}', '\\n')  \n",
        "print(f'The best parameters: {decision_grid.best_params_}', '\\n')\n",
        "run_time = round((time.time() - start_time)/60, 5)  \n",
        "print(f'Run time: {run_time} minutes')\n",
        "\n",
        "\n",
        "\n"
      ],
      "execution_count": null,
      "outputs": [
        {
          "output_type": "stream",
          "text": [
            "The best score: 0.5222002986766576 \n",
            "\n",
            "The best parameters: {'decision__criterion': 'mse', 'decision__min_samples_leaf': 9, 'decision__min_samples_split': 30} \n",
            "\n",
            "Run time: 1.11868 minutes\n"
          ],
          "name": "stdout"
        }
      ]
    },
    {
      "cell_type": "code",
      "metadata": {
        "id": "M1QfywFCqsD8",
        "colab_type": "code",
        "colab": {},
        "outputId": "c7c51465-380e-4f68-8249-7b3f33bac7e0"
      },
      "source": [
        "''' KNN regressor '''    \n",
        "\n",
        "start_time = time.time()  \n",
        "\n",
        "# KNeighbors pipeline \n",
        "knn_pipe = Pipeline([('preprocessor', preprocessor), ('knn', KNeighborsRegressor())])  \n",
        "\n",
        "# decision tree parameters for grid search \n",
        "knn_params = {'knn__n_neighbors': range(1, 10),  \n",
        "              'knn__algorithm': ['brute', 'auto'],   \n",
        "              'knn__p': [1, 2] }  \n",
        "\n",
        "# decision tree grid search   \n",
        "kfold = KFold(n_splits = 5, shuffle = True) \n",
        "knn_grid = GridSearchCV(knn_pipe, param_grid = knn_params, cv = kfold)    \n",
        "knn_grid.fit(x_train, y_train)   \n",
        "\n",
        "# append values to lists \n",
        "model.append('KNN')  \n",
        "best_score.append(knn_grid.best_score_)  \n",
        "\n",
        "# print results \n",
        "print(f'The best score: {knn_grid.best_score_}', '\\n')  \n",
        "print(f'The best parameters: {knn_grid.best_params_}', '\\n')\n",
        "run_time = round((time.time() - start_time)/60, 5)  \n",
        "print(f'Run time: {run_time} minutes')\n",
        "\n"
      ],
      "execution_count": null,
      "outputs": [
        {
          "output_type": "stream",
          "text": [
            "The best score: 0.5345261949068542 \n",
            "\n",
            "The best parameters: {'knn__algorithm': 'brute', 'knn__n_neighbors': 9, 'knn__p': 2} \n",
            "\n",
            "Run time: 0.83254 minutes\n"
          ],
          "name": "stdout"
        }
      ]
    },
    {
      "cell_type": "code",
      "metadata": {
        "id": "G33z-_t1qsD-",
        "colab_type": "code",
        "colab": {},
        "outputId": "9a21c1fd-6c66-4471-8020-2b29e1aa6527"
      },
      "source": [
        "''' SVR '''     \n",
        "\n",
        "start_time = time.time()  \n",
        "\n",
        "# svr pipeline \n",
        "svr_pipe = Pipeline([('preprocessor', preprocessor), ('svr', SVR())])   \n",
        "\n",
        "# svr parameters for grid search \n",
        "svr_params = {'svr__kernel': ['rbf'], #['linear', 'poly', 'rbf'],  # default = rbf\n",
        "              #'svr__C': np.linspace(0.1, 1, 10),  \n",
        "              'svr__C': [0.1, 1, 5],# [0.1, 1, 3, 5, 6, 7, 10],  # default = 1.0\n",
        "              'svr__gamma': ['scale']} #np.linspace(1e-3, 1, 10) }  # default = scale\n",
        "\n",
        "# svr grid search \n",
        "kfold = KFold(n_splits = 5, shuffle = True) \n",
        "svr_grid = GridSearchCV(svr_pipe, param_grid = svr_params, cv = kfold)    \n",
        "svr_grid.fit(x_train, y_train)   \n",
        "\n",
        "# append values to lists \n",
        "model.append('SVR')  \n",
        "best_score.append(svr_grid.best_score_)  \n",
        "\n",
        "# print results \n",
        "print(f'The best score: {svr_grid.best_score_}', '\\n')  \n",
        "print(f'The best parameters: {svr_grid.best_params_}', '\\n')\n",
        "run_time = round((time.time() - start_time)/60, 5)  \n",
        "print(f'Run time: {run_time} minutes')\n",
        "\n"
      ],
      "execution_count": null,
      "outputs": [
        {
          "output_type": "stream",
          "text": [
            "The best score: 0.2638574811628877 \n",
            "\n",
            "The best parameters: {'svr__C': 5, 'svr__gamma': 'scale', 'svr__kernel': 'rbf'} \n",
            "\n",
            "Run time: 0.70149 minutes\n"
          ],
          "name": "stdout"
        }
      ]
    },
    {
      "cell_type": "code",
      "metadata": {
        "id": "ROd6mHwgqsEB",
        "colab_type": "code",
        "colab": {},
        "outputId": "cb073728-ac47-48fb-d6b2-ad052d741cb2"
      },
      "source": [
        "''' Random Forest Regressor '''     \n",
        "\n",
        "start_time = time.time()  \n",
        "\n",
        "# random forest pipeline \n",
        "randomf_pipe = Pipeline([('preprocessor', preprocessor), ('randomf', RandomForestRegressor())])   \n",
        "\n",
        "# random forest grid search \n",
        "randomf_params = {'randomf__n_estimators': [50, 100],   #[25, 50, 100, 150, 200]  \n",
        "                 #'randomf__criterion': ['gini', 'entropy'], \n",
        "                 'randomf__max_depth': [5, 10, 20],  \n",
        "                 'randomf__min_samples_leaf': range(1, 10), \n",
        "                 'randomf__min_samples_split': np.linspace(start = 2, stop = 10, num = 5, dtype = int)  }\n",
        "\n",
        "# svr grid search \n",
        "kfold = KFold(n_splits = 5, shuffle = True) \n",
        "randomf_grid = GridSearchCV(randomf_pipe, param_grid = randomf_params, cv = kfold)      \n",
        "randomf_grid.fit(x_train, y_train)   \n",
        "\n",
        "# append values to lists \n",
        "model.append('RandomForest')  \n",
        "best_score.append(randomf_grid.best_score_)  \n",
        "\n",
        "# print results \n",
        "print(f'The best score: {randomf_grid.best_score_}', '\\n')  \n",
        "print(f'The best parameters: {randomf_grid.best_params_}', '\\n')\n",
        "run_time = round((time.time() - start_time)/60, 5)  \n",
        "print(f'Run time: {run_time} minutes')\n",
        "\n"
      ],
      "execution_count": null,
      "outputs": [
        {
          "output_type": "stream",
          "text": [
            "The best score: 0.5968160097403603 \n",
            "\n",
            "The best parameters: {'randomf__max_depth': 5, 'randomf__min_samples_leaf': 8, 'randomf__min_samples_split': 10, 'randomf__n_estimators': 50} \n",
            "\n",
            "Run time: 28.18215 minutes\n"
          ],
          "name": "stdout"
        }
      ]
    },
    {
      "cell_type": "code",
      "metadata": {
        "id": "vMM2Ly7LqsED",
        "colab_type": "code",
        "colab": {},
        "outputId": "e20015dd-55e3-4b66-8262-86a9ae7b91eb"
      },
      "source": [
        "''' Gradient Boosting Regressor '''    \n",
        "\n",
        "# start_time = time.time()  \n",
        "\n",
        "# # gradient boosting regressor pipeline \n",
        "# gbr_pipe = Pipeline([('preprocessor', preprocessor), ('gbr', GradientBoostingRegressor())])   \n",
        "\n",
        "# # gbr parameters for grid search \n",
        "# gbr_params = {'gbr__n_estimators': [100, 200, 300], # default = 100; # unlike tree models, this is how many iteration rounds you'd like to run (default = 100) \n",
        "#               'bgr__learning_rate': [0.01, 0.1, 0.5], # default = 0.1 \n",
        "#               'gbr__subsample': [0.5, 0.75, 1.0],  # \n",
        "#               'gbr__max_depth': [3, 10, 20] }  # default = 3  \n",
        "\n",
        "# # svr grid search \n",
        "# kfold = KFold(n_splits = 5, shuffle = True) \n",
        "# gbr_grid = GridSearchCV(gbr_pipe, param_grid = gbr_params, cv = kfold)     \n",
        "# gbr_grid.fit(x_train, y_train)   \n",
        "\n",
        "# # append values to lists \n",
        "# model.append('GradientBoosting')  \n",
        "# best_score.append(gbr_grid.best_score_)  \n",
        "\n",
        "# # print results \n",
        "# print(f'The best score: {gbr_grid.best_score_}', '\\n')  \n",
        "# print(f'The best parameters: {gbr_grid.best_params_}', '\\n')\n",
        "# run_time = round((time.time() - start_time)/60, 5)  \n",
        "# print(f'Run time: {run_time} minutes')\n",
        "\n"
      ],
      "execution_count": null,
      "outputs": [
        {
          "output_type": "execute_result",
          "data": {
            "text/plain": [
              "' Gradient Boosting Regressor '"
            ]
          },
          "metadata": {
            "tags": []
          },
          "execution_count": 36
        }
      ]
    },
    {
      "cell_type": "code",
      "metadata": {
        "id": "eQi1ND8sqsEF",
        "colab_type": "code",
        "colab": {},
        "outputId": "8757721c-e792-4f11-8ffe-0fdb44a5d4f2"
      },
      "source": [
        "''' XGBoost Regressor '''    \n",
        "\n",
        "start_time = time.time()  \n",
        "\n",
        "# gradient boosting regressor pipeline \n",
        "xgb_pipe = Pipeline([('preprocessor', preprocessor), ('xgb', GradientBoostingRegressor())])   \n",
        "\n",
        "# xgb parameters for grid search \n",
        "xgb_params = {'xgb__n_estimators': [100, 200, 300], #np.linspace(100, 1100, 10),  # default = 100\n",
        "              'xgb__learning_rate': [0.01, 0.1, 0.5], # default = 0.1 \n",
        "              'xgb__subsample': [0.5, 0.75, 1.0],  # default = 1.0   \n",
        "              'xgb__max_depth': [3, 10, 20]} # [3, 10, 15, 20]  # default = 3\n",
        "\n",
        "# xgb grid search \n",
        "kfold = KFold(n_splits = 5, shuffle = True) \n",
        "xgb_grid = GridSearchCV(xgb_pipe, param_grid = xgb_params, cv = kfold)     \n",
        "xgb_grid.fit(x_train, y_train)   \n",
        "\n",
        "# append values to lists \n",
        "model.append('XGBoostRegressor')  \n",
        "best_score.append(xgb_grid.best_score_)  \n",
        "\n",
        "# print results \n",
        "print(f'The best score: {xgb_grid.best_score_}', '\\n')  \n",
        "print(f'The best parameters: {xgb_grid.best_params_}', '\\n')\n",
        "run_time = round((time.time() - start_time)/60, 5)  \n",
        "print(f'Run time: {run_time} minutes')\n",
        "\n"
      ],
      "execution_count": null,
      "outputs": [
        {
          "output_type": "stream",
          "text": [
            "The best score: 0.5984551282219712 \n",
            "\n",
            "The best parameters: {'xgb__learning_rate': 0.01, 'xgb__max_depth': 3, 'xgb__n_estimators': 300, 'xgb__subsample': 1.0} \n",
            "\n",
            "Run time: 26.02106 minutes\n"
          ],
          "name": "stdout"
        }
      ]
    },
    {
      "cell_type": "code",
      "metadata": {
        "id": "3mSsrQRyqsEI",
        "colab_type": "code",
        "colab": {}
      },
      "source": [
        ""
      ],
      "execution_count": null,
      "outputs": []
    },
    {
      "cell_type": "markdown",
      "metadata": {
        "id": "lPaeqhWpqsEL",
        "colab_type": "text"
      },
      "source": [
        "<p><a name=\"section 9\"></a></p> \n",
        "\n",
        "### Section 9: Display grid search results                       \n"
      ]
    },
    {
      "cell_type": "code",
      "metadata": {
        "id": "Mhd7w4I0qsEL",
        "colab_type": "code",
        "colab": {},
        "outputId": "79fa4630-cd7c-4f3a-c3f1-adfbf68b0fd0"
      },
      "source": [
        "''' print the model list '''\n",
        "\n",
        "model   "
      ],
      "execution_count": null,
      "outputs": [
        {
          "output_type": "execute_result",
          "data": {
            "text/plain": [
              "['Linear',\n",
              " 'Ridge',\n",
              " 'Lasso',\n",
              " 'ElasticNet',\n",
              " 'DecisionTree',\n",
              " 'KNN',\n",
              " 'SVR',\n",
              " 'RandomForest',\n",
              " 'XGBoostRegressor']"
            ]
          },
          "metadata": {
            "tags": []
          },
          "execution_count": 38
        }
      ]
    },
    {
      "cell_type": "code",
      "metadata": {
        "id": "qQmH9XRcqsEO",
        "colab_type": "code",
        "colab": {},
        "outputId": "27e976ec-b5d0-46bd-e672-9b7cf1dbb84b"
      },
      "source": [
        "''' print best scores (r^2) '''\n",
        "\n",
        "for i in range(len(model)):  \n",
        "    print(f'The r^2 score for {model[i]} is: {best_score[i]:.5f}', '\\n') \n"
      ],
      "execution_count": null,
      "outputs": [
        {
          "output_type": "stream",
          "text": [
            "The r^2 score for Linear is: 0.56017 \n",
            "\n",
            "The r^2 score for Ridge is: 0.56045 \n",
            "\n",
            "The r^2 score for Lasso is: 0.55975 \n",
            "\n",
            "The r^2 score for ElasticNet is: 0.56084 \n",
            "\n",
            "The r^2 score for DecisionTree is: 0.52220 \n",
            "\n",
            "The r^2 score for KNN is: 0.53453 \n",
            "\n",
            "The r^2 score for SVR is: 0.26386 \n",
            "\n",
            "The r^2 score for RandomForest is: 0.59682 \n",
            "\n",
            "The r^2 score for XGBoostRegressor is: 0.59846 \n",
            "\n"
          ],
          "name": "stdout"
        }
      ]
    },
    {
      "cell_type": "code",
      "metadata": {
        "id": "h_Ma1EocqsEP",
        "colab_type": "code",
        "colab": {},
        "outputId": "eac52d5b-9a9a-453d-bc18-5fb4adc28539"
      },
      "source": [
        "''' plot best scores '''\n",
        "\n",
        "plt.scatter(x = model, y = best_score)\n",
        "plt.title('Model r^2 scores on the training set (grid search)')   \n",
        "plt.grid(True)\n",
        "plt.xticks(rotation = 45)\n",
        "plt.show()   \n"
      ],
      "execution_count": null,
      "outputs": [
        {
          "output_type": "display_data",
          "data": {
            "image/png": "[encoded data removed]",
            "text/plain": [
              "<Figure size 432x288 with 1 Axes>"
            ]
          },
          "metadata": {
            "tags": [],
            "needs_background": "light"
          }
        }
      ]
    },
    {
      "cell_type": "code",
      "metadata": {
        "id": "wPKGkrs7qsER",
        "colab_type": "code",
        "colab": {}
      },
      "source": [
        ""
      ],
      "execution_count": null,
      "outputs": []
    },
    {
      "cell_type": "markdown",
      "metadata": {
        "id": "1na_EwBiqsES",
        "colab_type": "text"
      },
      "source": [
        "<p><a name=\"section 10\"></a></p> \n",
        "\n",
        "### Section 10: Cross validation via random search                            \n"
      ]
    },
    {
      "cell_type": "code",
      "metadata": {
        "id": "HMsVknagqsET",
        "colab_type": "code",
        "colab": {}
      },
      "source": [
        "''' define empty lists to contain results '''\n",
        "\n",
        "model_r = []  \n",
        "best_score_r = []  "
      ],
      "execution_count": null,
      "outputs": []
    },
    {
      "cell_type": "code",
      "metadata": {
        "id": "PonWqlvvqsEV",
        "colab_type": "code",
        "colab": {},
        "outputId": "e4660e43-bd73-4161-f600-bb753ed03cf0"
      },
      "source": [
        "''' Linear regression => includes extraneous steps for consistency with other models '''  \n",
        "\n",
        "start_time = time.time()  \n",
        "\n",
        "# linear regression pipeline \n",
        "linear_pipe_r = Pipeline([('preprocessor', preprocessor), ('linear', LinearRegression())])     \n",
        "\n",
        "# linear regression search parameters    \n",
        "linear_params_r = { }        \n",
        "\n",
        "# ridge grid search  \n",
        "kfold = KFold(n_splits = 5, shuffle = True)  \n",
        "linear_grid_r = RandomizedSearchCV(linear_pipe_r, param_distributions = linear_params_r, cv = kfold)  \n",
        "linear_grid_r.fit(x_train, y_train)   \n",
        "\n",
        "# # append values to lists \n",
        "model_r.append('Linear_r')  \n",
        "best_score_r.append(linear_grid_r.best_score_)     \n",
        "\n",
        "# print results \n",
        "print(f'The best score: {linear_grid_r.best_score_}', '\\n')  \n",
        "print(f'The best parameters: {linear_grid_r.best_params_}', '\\n')\n",
        "run_time = round((time.time() - start_time)/60, 5)  \n",
        "print(f'Run time: {run_time} minutes')\n",
        "\n",
        "\n"
      ],
      "execution_count": null,
      "outputs": [
        {
          "output_type": "stream",
          "text": [
            "The best score: 0.5602118738009436 \n",
            "\n",
            "The best parameters: {} \n",
            "\n",
            "Run time: 0.00861 minutes\n"
          ],
          "name": "stdout"
        }
      ]
    },
    {
      "cell_type": "code",
      "metadata": {
        "id": "GAcPJ0PUqsEY",
        "colab_type": "code",
        "colab": {},
        "outputId": "9aed9a31-0590-4833-a864-b42e5b85baa2"
      },
      "source": [
        "''' Ridge '''\n",
        "\n",
        "start_time = time.time() \n",
        "\n",
        "# ridge pipeline \n",
        "ridge_pipe_r = Pipeline([('preprocessor', preprocessor), ('ridge', Ridge())])     \n",
        "\n",
        "# ridge random search parameters   \n",
        "ridge_params_r = {'ridge__alpha': uniform(1e-4, 20)}    \n",
        "\n",
        "# ridge random search \n",
        "kfold = KFold(n_splits = 5, shuffle = True)  \n",
        "ridge_grid_r = RandomizedSearchCV(ridge_pipe_r, param_distributions = ridge_params_r, cv = kfold)      \n",
        "ridge_grid_r.fit(x_train, y_train)   \n",
        "\n",
        "# append values to lists \n",
        "model_r.append('Ridge_r')  \n",
        "best_score_r.append(ridge_grid_r.best_score_) \n",
        "\n",
        "# print results \n",
        "print(f'The best score: {ridge_grid_r.best_score_}', '\\n')  \n",
        "print(f'The best parameters: {ridge_grid_r.best_params_}', '\\n')\n",
        "run_time = round((time.time() - start_time)/60, 5)  \n",
        "print(f'Run time: {run_time} minutes')     \n",
        "\n"
      ],
      "execution_count": null,
      "outputs": [
        {
          "output_type": "stream",
          "text": [
            "The best score: 0.5614249678534657 \n",
            "\n",
            "The best parameters: {'ridge__alpha': 19.68092968204215} \n",
            "\n",
            "Run time: 0.0696 minutes\n"
          ],
          "name": "stdout"
        }
      ]
    },
    {
      "cell_type": "code",
      "metadata": {
        "id": "ZjajZw5_qsEa",
        "colab_type": "code",
        "colab": {},
        "outputId": "2095eb21-8739-44eb-8836-9dda03930427"
      },
      "source": [
        "''' Lasso '''\n",
        "\n",
        "start_time = time.time()   \n",
        "\n",
        "# lasso pipeline \n",
        "lasso_pipe_r = Pipeline([('preprocessor', preprocessor), ('lasso', Lasso())])      \n",
        "              \n",
        "# lasso random search parameters    \n",
        "lasso_params_r = [{'lasso__alpha': uniform(1e-4, 10),   \n",
        "                   'lasso__max_iter': randint(1000, 2000)}]\n",
        "\n",
        "\n",
        "# lasso random search  \n",
        "kfold = KFold(n_splits = 5, shuffle = True)  \n",
        "lasso_grid_r = RandomizedSearchCV(lasso_pipe_r, param_distributions = lasso_params_r, cv = kfold)     \n",
        "lasso_grid_r.fit(x_train, y_train)   \n",
        "\n",
        "# append values to lists \n",
        "model_r.append('Lasso_r')  \n",
        "best_score_r.append(lasso_grid_r.best_score_)   \n",
        "\n",
        "# print results \n",
        "print(f'The best score: {lasso_grid_r.best_score_}', '\\n')  \n",
        "print(f'The best parameters: {lasso_grid_r.best_params_}', '\\n')\n",
        "run_time = round((time.time() - start_time)/60, 5)  \n",
        "print(f'Run time: {run_time} minutes')\n",
        "\n",
        "\n"
      ],
      "execution_count": null,
      "outputs": [
        {
          "output_type": "stream",
          "text": [
            "The best score: 0.5606946929738142 \n",
            "\n",
            "The best parameters: {'lasso__alpha': 3.71467216719488, 'lasso__max_iter': 1289} \n",
            "\n",
            "Run time: 0.08017 minutes\n"
          ],
          "name": "stdout"
        }
      ]
    },
    {
      "cell_type": "code",
      "metadata": {
        "id": "JRLukdPLqsEc",
        "colab_type": "code",
        "colab": {},
        "outputId": "e38077f5-1386-4851-d351-009f86bf48c0"
      },
      "source": [
        "''' Elastic net '''    \n",
        "\n",
        "start_time = time.time()  \n",
        "\n",
        "# elastic net pipeline \n",
        "elastic_pipe_r = Pipeline([('preprocessor', preprocessor), ('elastic', ElasticNet())])      \n",
        "              \n",
        "# elastic net random search parameters    \n",
        "elastic_params_r = {'elastic__alpha': uniform(1e-4, 3), \n",
        "                    'elastic__l1_ratio': uniform(0.25, 0.99),   \n",
        "                    'elastic__max_iter': randint(1000, 3000)  }     \n",
        "\n",
        "# elastic net random search   \n",
        "kfold = KFold(n_splits = 5, shuffle = True)  \n",
        "elastic_grid_r = RandomizedSearchCV(elastic_pipe_r, param_distributions = elastic_params_r, cv = kfold)    \n",
        "elastic_grid_r.fit(x_train, y_train)   \n",
        "\n",
        "# append values to lists \n",
        "model_r.append('ElasticNet')  \n",
        "best_score_r.append(elastic_grid_r.best_score_) \n",
        "\n",
        "# print results \n",
        "print(f'The best score: {elastic_grid_r.best_score_}', '\\n')  \n",
        "print(f'The best parameters: {elastic_grid_r.best_params_}', '\\n')\n",
        "run_time = round((time.time() - start_time)/60, 5)  \n",
        "print(f'Run time: {run_time} minutes')\n",
        "\n",
        "\n"
      ],
      "execution_count": null,
      "outputs": [
        {
          "output_type": "stream",
          "text": [
            "The best score: 0.5391606292025555 \n",
            "\n",
            "The best parameters: {'elastic__alpha': 1.306086779761979, 'elastic__l1_ratio': 0.9310924376810905, 'elastic__max_iter': 1751} \n",
            "\n",
            "Run time: 0.1514 minutes\n"
          ],
          "name": "stdout"
        }
      ]
    },
    {
      "cell_type": "code",
      "metadata": {
        "id": "uDPqep2EqsEd",
        "colab_type": "code",
        "colab": {},
        "outputId": "8429c2ab-235f-421c-90d4-4b826d5bdc18"
      },
      "source": [
        "''' Decision tree regressor '''   \n",
        "\n",
        "start_time = time.time()  \n",
        "\n",
        "# decision tree pipeline \n",
        "decision_pipe_r = Pipeline([('preprocessor', preprocessor), ('decision', DecisionTreeRegressor())])  \n",
        "\n",
        "# decision tree random search parameters     \n",
        "decision_params_r = {#'decision__criterion': ['gini', 'entropy'],  \n",
        "                     'decision__criterion': ['mse'],   \n",
        "                     'decision__min_samples_leaf': randint(1, 10), \n",
        "                     'decision__min_samples_split': randint(2, 30) }  \n",
        "\n",
        "# decision tree random search   \n",
        "kfold = KFold(n_splits = 5, shuffle = True) \n",
        "decision_grid_r = RandomizedSearchCV(decision_pipe_r, param_distributions = decision_params_r, cv = kfold)     \n",
        "decision_grid_r.fit(x_train, y_train)   \n",
        "\n",
        "# append values to lists \n",
        "model_r.append('DecisionTree')  \n",
        "best_score_r.append(decision_grid_r.best_score_)  \n",
        "\n",
        "# print results \n",
        "print(f'The best score: {decision_grid_r.best_score_}', '\\n')  \n",
        "print(f'The best parameters: {decision_grid_r.best_params_}', '\\n')\n",
        "run_time = round((time.time() - start_time)/60, 5)  \n",
        "print(f'Run time: {run_time} minutes')\n",
        "\n"
      ],
      "execution_count": null,
      "outputs": [
        {
          "output_type": "stream",
          "text": [
            "The best score: 0.4885018088610732 \n",
            "\n",
            "The best parameters: {'decision__criterion': 'mse', 'decision__min_samples_leaf': 9, 'decision__min_samples_split': 16} \n",
            "\n",
            "Run time: 0.07718 minutes\n"
          ],
          "name": "stdout"
        }
      ]
    },
    {
      "cell_type": "code",
      "metadata": {
        "id": "AKM1RsGFqsEf",
        "colab_type": "code",
        "colab": {},
        "outputId": "250c477e-7534-4199-d782-0e38f3ef8363"
      },
      "source": [
        "''' KNN regressor '''    \n",
        "\n",
        "start_time = time.time()  \n",
        "\n",
        "# KNeighbors pipeline \n",
        "knn_pipe_r = Pipeline([('preprocessor', preprocessor), ('knn', KNeighborsRegressor())])  \n",
        "\n",
        "# decision tree parameters for grid search \n",
        "knn_params_r = {'knn__n_neighbors': randint(1, 10),  \n",
        "                'knn__algorithm': ['brute', 'auto'],   \n",
        "                'knn__p': randint(1, 5) }  \n",
        "\n",
        "# knn random search   \n",
        "kfold = KFold(n_splits = 5, shuffle = True) \n",
        "knn_grid_r = RandomizedSearchCV(knn_pipe_r, param_distributions = knn_params_r, cv = kfold)    \n",
        "knn_grid_r.fit(x_train, y_train)   \n",
        "\n",
        "# append values to lists \n",
        "model_r.append('KNN')  \n",
        "best_score_r.append(knn_grid_r.best_score_)  \n",
        "\n",
        "# print results \n",
        "print(f'The best score: {knn_grid_r.best_score_}', '\\n')  \n",
        "print(f'The best parameters: {knn_grid_r.best_params_}', '\\n')\n",
        "run_time = round((time.time() - start_time)/60, 5)  \n",
        "print(f'Run time: {run_time} minutes')\n",
        "\n"
      ],
      "execution_count": null,
      "outputs": [
        {
          "output_type": "stream",
          "text": [
            "The best score: 0.5078019625780409 \n",
            "\n",
            "The best parameters: {'knn__algorithm': 'auto', 'knn__n_neighbors': 7, 'knn__p': 1} \n",
            "\n",
            "Run time: 0.52985 minutes\n"
          ],
          "name": "stdout"
        }
      ]
    },
    {
      "cell_type": "code",
      "metadata": {
        "id": "3-jTyf3jqsEh",
        "colab_type": "code",
        "colab": {},
        "outputId": "e5be8367-e867-4100-a3a4-972e643c424a"
      },
      "source": [
        "''' SVR '''     \n",
        "\n",
        "start_time = time.time()  \n",
        "\n",
        "# svr pipeline \n",
        "svr_pipe_r = Pipeline([('preprocessor', preprocessor), ('svr', SVR())])   \n",
        "\n",
        "# svr parameters for grid search \n",
        "svr_params_r = {'svr__kernel': ['linear', 'poly', 'rbf'],  # default = rbf\n",
        "                'svr__C': uniform(0.1, 10),   # default = 1.0    \n",
        "                'svr__gamma': uniform(1e-3, 1) } #np.linspace(1e-3, 1, 10) }  # default = scale\n",
        "\n",
        "# svr grid search \n",
        "kfold = KFold(n_splits = 5, shuffle = True) \n",
        "svr_grid_r = RandomizedSearchCV(svr_pipe_r, param_distributions = svr_params, cv = kfold)    \n",
        "svr_grid_r.fit(x_train, y_train)   \n",
        "\n",
        "# append values to lists \n",
        "model_r.append('SVR')  \n",
        "best_score_r.append(svr_grid_r.best_score_)  \n",
        "\n",
        "# print results \n",
        "print(f'The best score: {svr_grid_r.best_score_}', '\\n')  \n",
        "print(f'The best parameters: {svr_grid_r.best_params_}', '\\n')\n",
        "run_time = round((time.time() - start_time)/60, 5)  \n",
        "print(f'Run time: {run_time} minutes')\n",
        "\n"
      ],
      "execution_count": null,
      "outputs": [
        {
          "output_type": "stream",
          "text": [
            "The best score: 0.26435031778402757 \n",
            "\n",
            "The best parameters: {'svr__kernel': 'rbf', 'svr__gamma': 'scale', 'svr__C': 5} \n",
            "\n",
            "Run time: 0.62418 minutes\n"
          ],
          "name": "stdout"
        }
      ]
    },
    {
      "cell_type": "code",
      "metadata": {
        "id": "GZHmgoJSqsEj",
        "colab_type": "code",
        "colab": {},
        "outputId": "ae03525a-a65c-4842-9728-c54385caf60a"
      },
      "source": [
        "''' Random Forest Regressor '''     \n",
        "\n",
        "start_time = time.time()  \n",
        "\n",
        "# random forest pipeline \n",
        "randomf_pipe_r = Pipeline([('preprocessor', preprocessor), ('randomf', RandomForestRegressor())])   \n",
        "\n",
        "# random forest grid search \n",
        "randomf_params_r = [{'randomf__n_estimators': randint(25, 225), \n",
        "                     'randomf__max_depth': randint(1, 11), \n",
        "                     'randomf__min_samples_leaf': randint(1, 11), \n",
        "                     'randomf__min_samples_split': randint(2, 12)  }]\n",
        "\n",
        "\n",
        "# random forest random search \n",
        "kfold = KFold(n_splits = 5, shuffle = True) \n",
        "randomf_grid_r = RandomizedSearchCV(randomf_pipe_r, param_distributions = randomf_params_r, cv = kfold)      \n",
        "randomf_grid_r.fit(x_train, y_train)   \n",
        "\n",
        "# append values to lists \n",
        "model_r.append('RandomForest_r')  \n",
        "best_score_r.append(randomf_grid_r.best_score_)  \n",
        "\n",
        "# print results \n",
        "print(f'The best score: {randomf_grid_r.best_score_}', '\\n')  \n",
        "print(f'The best parameters: {randomf_grid_r.best_params_}', '\\n')\n",
        "run_time = round((time.time() - start_time)/60, 5)  \n",
        "print(f'Run time: {run_time} minutes')\n",
        "\n",
        "\n"
      ],
      "execution_count": null,
      "outputs": [
        {
          "output_type": "stream",
          "text": [
            "The best score: 0.5970104284186301 \n",
            "\n",
            "The best parameters: {'randomf__max_depth': 6, 'randomf__min_samples_leaf': 4, 'randomf__min_samples_split': 3, 'randomf__n_estimators': 70} \n",
            "\n",
            "Run time: 0.88414 minutes\n"
          ],
          "name": "stdout"
        }
      ]
    },
    {
      "cell_type": "code",
      "metadata": {
        "id": "uplAS10ZqsEk",
        "colab_type": "code",
        "colab": {},
        "outputId": "932ddaef-8771-43a1-fd55-50be4615ebbd"
      },
      "source": [
        "''' Gradient Boosting Regressor '''    \n",
        "\n",
        "# start_time = time.time()  \n",
        "\n",
        "# # gradient boosting regressor pipeline \n",
        "# gbr_pipe_r = Pipeline([('preprocessor', preprocessor), ('gbr', GradientBoostingRegressor())])   \n",
        "\n",
        "# # gbr parameters for grid search \n",
        "# gbr_params_r = {'gbr__n_estimators': randint(100, 500), # default = 100; # unlike tree models, this is how many iteration rounds you'd like to run (default = 100) \n",
        "#               'bgr__learning_rate': uniform(0.01, 0.75), # default = 0.1 \n",
        "#               'gbr__subsample': uniform(0.25, 1.0),  # \n",
        "#               'gbr__max_depth': randint(3, 50) }  # default = 3  \n",
        "\n",
        "# # svr random search \n",
        "# kfold = KFold(n_splits = 5, shuffle = True) \n",
        "# gbr_grid_r = RandomizedSearchCV(gbr_pipe_r, param_distributions = gbr_params_r, cv = kfold)     \n",
        "# gbr_grid_r.fit(x_train, y_train)   \n",
        "\n",
        "# # append values to lists \n",
        "# model.append('GradientBoosting_r')  \n",
        "# best_score.append(gbr_grid_r.best_score_)  \n",
        "\n",
        "# # print results \n",
        "# print(f'The best score: {gbr_grid_r.best_score_}', '\\n')  \n",
        "# print(f'The best parameters: {gbr_grid_r.best_params_}', '\\n')\n",
        "# run_time = round((time.time() - start_time)/60, 5)  \n",
        "# print(f'Run time: {run_time} minutes')\n",
        "\n"
      ],
      "execution_count": null,
      "outputs": [
        {
          "output_type": "execute_result",
          "data": {
            "text/plain": [
              "' Gradient Boosting Regressor '"
            ]
          },
          "metadata": {
            "tags": []
          },
          "execution_count": 50
        }
      ]
    },
    {
      "cell_type": "code",
      "metadata": {
        "id": "nVwQViodqsEm",
        "colab_type": "code",
        "colab": {},
        "outputId": "7c500fbe-f7f3-444b-a086-72168724b7f6"
      },
      "source": [
        "''' XGBoost Regressor '''    \n",
        "\n",
        "start_time = time.time()  \n",
        "\n",
        "# gradient boosting regressor pipeline \n",
        "xgb_pipe_r = Pipeline([('preprocessor', preprocessor), ('xgb', GradientBoostingRegressor())])   \n",
        "\n",
        "# xgb parameters for grid search \n",
        "xgb_params_r = {'xgb__n_estimators': randint(100, 900), # default = 100\n",
        "                'xgb__learning_rate': uniform(0.01, 0.75), # default = 0.1 \n",
        "                'xgb__subsample': uniform(0.25, 1),  # default = 1.0   \n",
        "                'xgb__max_depth': randint(3, 50) } # default = 3\n",
        "\n",
        "# xgb random search \n",
        "kfold = KFold(n_splits = 5, shuffle = True) \n",
        "xgb_grid_r = RandomizedSearchCV(xgb_pipe_r, param_distributions = xgb_params_r, cv = kfold)     \n",
        "xgb_grid_r.fit(x_train, y_train)   \n",
        "\n",
        "# append values to lists \n",
        "model_r.append('XGBoostRegressor_r')  \n",
        "best_score_r.append(xgb_grid_r.best_score_)  \n",
        "\n",
        "# print results \n",
        "print(f'The best score: {xgb_grid_r.best_score_}', '\\n')  \n",
        "print(f'The best parameters: {xgb_grid_r.best_params_}', '\\n')\n",
        "run_time = round((time.time() - start_time)/60, 5)  \n",
        "print(f'Run time: {run_time} minutes')\n",
        "\n"
      ],
      "execution_count": null,
      "outputs": [
        {
          "output_type": "stream",
          "text": [
            "The best score: 0.5058661162116465 \n",
            "\n",
            "The best parameters: {'xgb__learning_rate': 0.019147850324680242, 'xgb__max_depth': 22, 'xgb__n_estimators': 327, 'xgb__subsample': 0.6860273662759242} \n",
            "\n",
            "Run time: 4.00293 minutes\n"
          ],
          "name": "stdout"
        }
      ]
    },
    {
      "cell_type": "code",
      "metadata": {
        "id": "_1n0VrUmqsEo",
        "colab_type": "code",
        "colab": {}
      },
      "source": [
        ""
      ],
      "execution_count": null,
      "outputs": []
    },
    {
      "cell_type": "markdown",
      "metadata": {
        "id": "1iHSw9yqqsEq",
        "colab_type": "text"
      },
      "source": [
        "<p><a name=\"section 11\"></a></p> \n",
        "\n",
        "### Section 11: Display random search results                          \n"
      ]
    },
    {
      "cell_type": "code",
      "metadata": {
        "id": "DYyHpw_QqsEq",
        "colab_type": "code",
        "colab": {},
        "outputId": "ab0758f4-a1db-43db-d7ea-89d7fa13abf0"
      },
      "source": [
        "''' print the model list '''\n",
        "\n",
        "model_r     "
      ],
      "execution_count": null,
      "outputs": [
        {
          "output_type": "execute_result",
          "data": {
            "text/plain": [
              "['Linear_r',\n",
              " 'Ridge_r',\n",
              " 'Lasso_r',\n",
              " 'ElasticNet',\n",
              " 'DecisionTree',\n",
              " 'KNN',\n",
              " 'SVR',\n",
              " 'RandomForest_r',\n",
              " 'XGBoostRegressor_r']"
            ]
          },
          "metadata": {
            "tags": []
          },
          "execution_count": 52
        }
      ]
    },
    {
      "cell_type": "code",
      "metadata": {
        "id": "p-BmoBoEqsEs",
        "colab_type": "code",
        "colab": {},
        "outputId": "0a78dbc0-c5a3-436c-eece-c75c6732ddff"
      },
      "source": [
        "''' print best scores (r^2) '''\n",
        "\n",
        "for i in range(len(model_r)):  \n",
        "    print(f'The r^2 score for {model_r[i]} is: {best_score_r[i]:.5f}', '\\n') "
      ],
      "execution_count": null,
      "outputs": [
        {
          "output_type": "stream",
          "text": [
            "The r^2 score for Linear_r is: 0.56021 \n",
            "\n",
            "The r^2 score for Ridge_r is: 0.56142 \n",
            "\n",
            "The r^2 score for Lasso_r is: 0.56069 \n",
            "\n",
            "The r^2 score for ElasticNet is: 0.53916 \n",
            "\n",
            "The r^2 score for DecisionTree is: 0.48850 \n",
            "\n",
            "The r^2 score for KNN is: 0.50780 \n",
            "\n",
            "The r^2 score for SVR is: 0.26435 \n",
            "\n",
            "The r^2 score for RandomForest_r is: 0.59701 \n",
            "\n",
            "The r^2 score for XGBoostRegressor_r is: 0.50587 \n",
            "\n"
          ],
          "name": "stdout"
        }
      ]
    },
    {
      "cell_type": "code",
      "metadata": {
        "id": "sI9xUv0FqsEt",
        "colab_type": "code",
        "colab": {},
        "outputId": "6df51e21-fef0-4bf0-faa6-7547e91a44b4"
      },
      "source": [
        "''' plot best scores '''\n",
        "\n",
        "plt.scatter(x = model_r, y = best_score_r)\n",
        "plt.title('Model r^2 scores on the training set (random search)')   \n",
        "plt.grid(True)\n",
        "plt.xticks(rotation = 45)\n",
        "plt.show()   \n"
      ],
      "execution_count": null,
      "outputs": [
        {
          "output_type": "display_data",
          "data": {
            "image/png": "[encoded data removed]",
            "text/plain": [
              "<Figure size 432x288 with 1 Axes>"
            ]
          },
          "metadata": {
            "tags": [],
            "needs_background": "light"
          }
        }
      ]
    },
    {
      "cell_type": "code",
      "metadata": {
        "id": "IUPgkwMuqsEu",
        "colab_type": "code",
        "colab": {}
      },
      "source": [
        ""
      ],
      "execution_count": null,
      "outputs": []
    },
    {
      "cell_type": "code",
      "metadata": {
        "id": "t8IYyQd8qsEv",
        "colab_type": "code",
        "colab": {},
        "outputId": "bafd39da-42dc-4643-8804-8adacd2dfb02"
      },
      "source": [
        "''' plot best scores: grid search and random search '''\n",
        "\n",
        "plt.scatter(x = model, y = best_score, c = 'g', alpha = 0.85, label = 'grid search')\n",
        "plt.scatter(x = model, y = best_score_r, c = 'b', alpha = 0.85, label = 'random search')\n",
        "plt.title('Model r^2 scores: Grid search and Random search')   \n",
        "plt.grid(True)   \n",
        "plt.xticks(rotation = 45)   \n",
        "plt.legend(loc = 'best')\n",
        "plt.show()   \n"
      ],
      "execution_count": null,
      "outputs": [
        {
          "output_type": "display_data",
          "data": {
            "image/png": "[encoded data removed]",
            "text/plain": [
              "<Figure size 432x288 with 1 Axes>"
            ]
          },
          "metadata": {
            "tags": [],
            "needs_background": "light"
          }
        }
      ]
    },
    {
      "cell_type": "code",
      "metadata": {
        "id": "LA4So1qNqsEx",
        "colab_type": "code",
        "colab": {}
      },
      "source": [
        ""
      ],
      "execution_count": null,
      "outputs": []
    },
    {
      "cell_type": "markdown",
      "metadata": {
        "id": "50yiFQ7VqsEy",
        "colab_type": "text"
      },
      "source": [
        "<p><a name=\"section 12\"></a></p> \n",
        "\n",
        "### Section 12: Pickle files                           \n"
      ]
    },
    {
      "cell_type": "code",
      "metadata": {
        "id": "yRIpt_EWqsEy",
        "colab_type": "code",
        "colab": {}
      },
      "source": [
        "''' pickle the df => models can be similarly pickled '''\n",
        "\n",
        "#pickle.dump(df, open('bigMart.dat', 'wb'))  # data frame saved as bigMart.dat; 'wb' = write bytes\n",
        "\n"
      ],
      "execution_count": null,
      "outputs": []
    },
    {
      "cell_type": "code",
      "metadata": {
        "id": "Yyw83AKbqsE0",
        "colab_type": "code",
        "colab": {}
      },
      "source": [
        "''' unpickle the df => models can be similarly unpickled '''\n",
        "\n",
        "#df = pickle.load(open('bigMart.dat', 'rb'))   # 'rb' = read bytes\n",
        "\n"
      ],
      "execution_count": null,
      "outputs": []
    },
    {
      "cell_type": "code",
      "metadata": {
        "id": "m2MD_7w2qsE1",
        "colab_type": "code",
        "colab": {}
      },
      "source": [
        "''' check '''\n",
        "\n",
        "#df.sample(10)\n",
        "\n",
        "#df.shape  \n",
        "\n"
      ],
      "execution_count": null,
      "outputs": []
    },
    {
      "cell_type": "code",
      "metadata": {
        "id": "B2DY_89-qsE3",
        "colab_type": "code",
        "colab": {}
      },
      "source": [
        ""
      ],
      "execution_count": null,
      "outputs": []
    },
    {
      "cell_type": "code",
      "metadata": {
        "id": "cm98XdaVqsE5",
        "colab_type": "code",
        "colab": {}
      },
      "source": [
        ""
      ],
      "execution_count": null,
      "outputs": []
    },
    {
      "cell_type": "code",
      "metadata": {
        "id": "jrSjWAqnqsE7",
        "colab_type": "code",
        "colab": {}
      },
      "source": [
        ""
      ],
      "execution_count": null,
      "outputs": []
    },
    {
      "cell_type": "code",
      "metadata": {
        "id": "XhRNSzmGqsFB",
        "colab_type": "code",
        "colab": {}
      },
      "source": [
        ""
      ],
      "execution_count": null,
      "outputs": []
    }
  ]
}